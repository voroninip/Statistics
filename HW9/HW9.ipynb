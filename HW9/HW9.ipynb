{
 "cells": [
  {
   "cell_type": "code",
   "id": "initial_id",
   "metadata": {
    "collapsed": true,
    "ExecuteTime": {
     "end_time": "2024-04-17T12:27:26.150594Z",
     "start_time": "2024-04-17T12:27:26.144253Z"
    }
   },
   "source": [
    "from IPython.display import Image \n",
    "Image(url=\"1.png\") "
   ],
   "outputs": [
    {
     "data": {
      "text/html": [
       "<img src=\"1.png\"/>"
      ],
      "text/plain": [
       "<IPython.core.display.Image object>"
      ]
     },
     "execution_count": 9,
     "metadata": {},
     "output_type": "execute_result"
    }
   ],
   "execution_count": 9
  },
  {
   "metadata": {},
   "cell_type": "markdown",
   "source": [
    "$\\usepackage{hyperref}$\n",
    "Решается задача \n",
    "\\[\\min_{s.t.\\ A\\theta = 0}\\norm{Y - \\theta}^2\\]\n",
    "То есть ищется проекция $Pr_{A^\\bot}Y$ \n",
    "Не стану переписывать доказательство \\href{https://personal.utdallas.edu/~jwz120030/Teaching/M4355/Books/MeyerMatrixAnalysis.pdf}{Формулы (p.430)}\n",
    "Матрица $A^\\mathsf{T}$ задаёт подпространство $\\mathbb{R}^n$ с базисом из $q$ векторов \n",
    "\\[Pr_{A^\\mathsf{T}}Y = A^\\mathsf{T}\\lr{AA^\\mathsf{T}}^{-1}A\\]\n",
    "\\[Pr_{A^\\mathsf{T}} = I - Pr_{A^\\bot}\\]\n",
    "Итого, \\[\\hat{\\theta} = Pr_{A^\\bot}Y = \\lr{I - A^\\mathsf{T}\\lr{AA^\\mathsf{T}}^{-1}A}Y\\]"
   ],
   "id": "c0d813602ab8818a"
  }
 ],
 "metadata": {
  "kernelspec": {
   "display_name": "Python 3",
   "language": "python",
   "name": "python3"
  },
  "language_info": {
   "codemirror_mode": {
    "name": "ipython",
    "version": 2
   },
   "file_extension": ".py",
   "mimetype": "text/x-python",
   "name": "python",
   "nbconvert_exporter": "python",
   "pygments_lexer": "ipython2",
   "version": "2.7.6"
  }
 },
 "nbformat": 4,
 "nbformat_minor": 5
}
