{
 "cells": [
  {
   "metadata": {},
   "cell_type": "markdown",
   "source": "# Задача 1",
   "id": "c9317f879f2d6b0"
  },
  {
   "metadata": {},
   "cell_type": "code",
   "outputs": [],
   "execution_count": null,
   "source": "",
   "id": "cb4b70338bd55778"
  },
  {
   "metadata": {},
   "cell_type": "markdown",
   "source": "# Задача 2",
   "id": "231cb0b0536a3911"
  },
  {
   "metadata": {},
   "cell_type": "code",
   "outputs": [],
   "execution_count": null,
   "source": "",
   "id": "7d07885567e2600c"
  },
  {
   "metadata": {},
   "cell_type": "markdown",
   "source": "# Задача 3",
   "id": "8e783360c07e4164"
  },
  {
   "metadata": {},
   "cell_type": "code",
   "outputs": [],
   "execution_count": null,
   "source": "",
   "id": "d679aa1371977c63"
  },
  {
   "metadata": {},
   "cell_type": "markdown",
   "source": "# Задача 4",
   "id": "1b396dbb1c984ff6"
  },
  {
   "metadata": {},
   "cell_type": "code",
   "outputs": [],
   "execution_count": null,
   "source": "",
   "id": "d36636a0b5c065ea"
  },
  {
   "metadata": {},
   "cell_type": "markdown",
   "source": "# Задача 5",
   "id": "76a44cbae04e0c1e"
  },
  {
   "metadata": {},
   "cell_type": "code",
   "outputs": [],
   "execution_count": null,
   "source": "",
   "id": "12ec259b4fb3c37d"
  }
 ],
 "metadata": {
  "kernelspec": {
   "display_name": "Python 3",
   "language": "python",
   "name": "python3"
  },
  "language_info": {
   "codemirror_mode": {
    "name": "ipython",
    "version": 2
   },
   "file_extension": ".py",
   "mimetype": "text/x-python",
   "name": "python",
   "nbconvert_exporter": "python",
   "pygments_lexer": "ipython2",
   "version": "2.7.6"
  }
 },
 "nbformat": 4,
 "nbformat_minor": 5
}
