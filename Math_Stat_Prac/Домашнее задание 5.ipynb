{
 "nbformat": 4,
 "nbformat_minor": 0,
 "metadata": {
  "colab": {
   "provenance": []
  },
  "kernelspec": {
   "name": "python3",
   "language": "python",
   "display_name": "Python 3 (ipykernel)"
  }
 },
 "cells": [
  {
   "cell_type": "markdown",
   "source": [
    "# Курс \"Практикум по математической статистике\"\n",
    "# 3 курс ФПМИ МФТИ, осень 2023\n",
    "## Домашнее задание 5. Проверка статистических гипотез и коэффициенты корреляции\n",
    "### Дедлайн --- 19 декабря 23:59\n",
    "\n",
    "Выполняйте задания прямо в ноутбуке. Пожалуйста, не стирайте условия задач.\n",
    "\n",
    "- Информация о выполнении и курсе в целом есть в чате https://t.me/+IHdLycZDD5g5MDQy.\n",
    "- По вопросам об условиях задач, требованиям можно писать в чат или https://t.me/vitalii_kondratiuk .\n",
    "- По организационным вопросам https://t.me/d_pavlov_p\n",
    "\n",
    "В этом и последующих заданиях вам потребуется выполнять генерацию случайных величин из некоторого распределения. Для этого вам понадобится библиотека scipy.stats. Мы настоятельно рекомендуем для генерации выборок использовать именно эту библиотеку.\n",
    "\n",
    "Настоятельно рекомендуемая форма оформления домашних заданий — это Jupyter Notebook и его pdf-версия с:\n",
    "\n",
    "* условием задачи,\n",
    "* решением (если требуется некоторый теоретический вывод),\n",
    "* описанием плана решения, который потом реализуется в коде,\n",
    "* собственно кодом,\n",
    "* построенными графиками (если это требуется) и **выводом**, который как правило должен заключаться в объяснении практических результатов с использованием теоретических фактов. ***Вывод требуется даже в том случае, если в условии об этом явно не сказано!***\n",
    "* некоторыми другими вещами, если об этом будет указано в задании.\n",
    "\n",
    "Оценка за каждую задачу складывается из правильного выполнения всех этих пунктов. Закрывая на них глаза, вы сознательно понижаете свою оценку.\n",
    "\n",
    "Каждая задача оценивается в 10 баллов, если не оговорено иного."
   ],
   "metadata": {
    "id": "Yi4gVenTOEib"
   }
  },
  {
   "cell_type": "code",
   "metadata": {
    "id": "MeH8Ya6LD3ky",
    "ExecuteTime": {
     "end_time": "2023-12-20T19:41:47.430954600Z",
     "start_time": "2023-12-20T19:41:47.324442200Z"
    }
   },
   "source": [
    "import numpy as np\n",
    "from scipy import stats as sps\n",
    "import seaborn as sns\n",
    "import matplotlib.pyplot as plt\n",
    "import pandas as pd\n",
    "\n",
    "sns.set(font_scale=1.4, style='whitegrid')\n",
    "%config InlineBackend.figure_format='retina'"
   ],
   "execution_count": 71,
   "outputs": []
  },
  {
   "cell_type": "markdown",
   "source": [
    "**Данная домашка будет посвящена проверке гипотез. До этого мы с Вами успешно научились строить точечные, доверительные и вариационные (байесовские) оценки. Такие оценки хорошо себя показывают в задачах с численным ответом, где есть допустимая ошибка и в машинном обучении, где параметр не является основной целью (а сама задача состоит в генерации новых данных или поиска зависимости в имеющихся (и генерации ответа по входу). Теперь обратимся к задачам, в которых нужно дать строгий бинарный ответ да/нет. Заметим, что насколько бы хорошими не были свойства оценок, они почти наверное численно не совпадают с истинным значением параметра, так что бинарный ответ по ним построить сложно. В проверке гипотез же ответ точный, и дозволяется ошибиться с ограниченной вероятностью**\n",
    "\n",
    "**Внимание! Гипотезу в рамках анализа можно либо отвергнуть, либо не отвергнуть, но ни в коем случае нельзя принять, так как в теории оценивается только вероятность ошибки 1 рода, но не 2! Всегда учитывайте возможность того, что используете недостаточно мощный критерий (как в жизни). Так что фраза \"гипотеза принимается\" является грубейшей ошибкой, и следует говорить \"гипотеза не отвергается\". За фразу \"гипотеза принимается\" решение будет обнуляться без права на аппеляцию.**\n",
    "\n",
    "Если не сказано иного, критерий нужно написать **самостоятельно**."
   ],
   "metadata": {
    "id": "3pQ0VaBQQTWm"
   }
  },
  {
   "cell_type": "markdown",
   "metadata": {
    "id": "oeP45bkgTivK"
   },
   "source": [
    "## Задача 1 (20 баллов)"
   ]
  },
  {
   "cell_type": "markdown",
   "source": [
    "Данная задача посвящена критериям согласия. В прошлой домашке мы увидели, что в большой части теории статистики требуется предположение о нормальности. Нормальное распределение --- самая привычная для практики вещь, так что на практике часто делается ошибка --- нормальность полагается без проверки. Но как проверять нормальность? Мы делали это при помощи QQ-plot и \"глазами\", что, конечно же, является моветоном.\n",
    "\n",
    "Предлагаем Вам реализовать и протестировать некоторые продвинутые способы проверки."
   ],
   "metadata": {
    "id": "2DSMwvR3QPqv"
   }
  },
  {
   "cell_type": "markdown",
   "source": [
    "Так как задача проверки нормальности с неизвестными параметрами достаточно сложная, мы остановимся на нормальности с нулевым средним и единичной дисперсией."
   ],
   "metadata": {
    "id": "d0jycl62Uir1"
   }
  },
  {
   "cell_type": "markdown",
   "source": [
    "Во всех пунктах нужно описать критерий, промоделировать нормальные выборки и проверить, что вероятность отвержения нормальности для нормальной выборки не превосходит теоретической вероятности 0.05 (во всех задачах будем брать такой уровень значимости)."
   ],
   "metadata": {
    "id": "43d283B2TPL9"
   }
  },
  {
   "cell_type": "markdown",
   "source": [
    "##Критерий Стьюдента"
   ],
   "metadata": {
    "id": "ZdAaxarxOC4E"
   }
  },
  {
   "cell_type": "markdown",
   "source": [
    "1. Вспомните (или посмотрите на Википедии) определение распределения Стьюдента с параметром. Как оно ведёт себя с ростом параметра? Что будет происходить с p-value критериев проверки нормальности и с гипотезой о нормальности с ростом параметра (будет ли она отвергаться чаще или нет)?"
   ],
   "metadata": {
    "id": "FMRrFZOfS6ly"
   }
  },
  {
   "cell_type": "markdown",
   "source": [
    "Ответ:"
   ],
   "metadata": {
    "id": "e2sSCDhSTORq"
   }
  },
  {
   "cell_type": "markdown",
   "source": [
    "Плотность распределения Стьюдента с параметром $\\nu$ имеет вид $\\dfrac{\\Gamma\\lr{{\\frac{\\nu+1}{2}}}}{\\sqrt{\\nu \\pi}\\cdot\\Gamma\\lr{{\\frac{\\nu}{2}}}}\\lr{1 + \\frac{x^2}{\\nu}}^{-\\frac{\\nu+1}{2}}$\n",
    "При $\\nu\\tends\\infty$ оно принимает вид вид стандартного нормального распределения $\\mathcal{N}(0,1)$\n"
   ],
   "metadata": {
    "collapsed": false
   }
  },
  {
   "cell_type": "markdown",
   "source": [
    "Какой минимальный k -- параметр распределения Стьюдента, при котором гипотеза о нормальности перестаёт отвергаться?"
   ],
   "metadata": {
    "id": "8JrdNnRgOLtT"
   }
  },
  {
   "cell_type": "code",
   "source": [
    "alpha = 0.05\n",
    "n = 10000\n",
    "normal = sps.norm(loc=0, scale=1)\n",
    "student = sps.t\n",
    "def p_value(samples):\n",
    "    nX = (n ** 0.5) * samples.mean()\n",
    "    quantile = normal.cdf(nX)\n",
    "    return 2 * min(quantile, 1 - quantile)\n",
    "\n",
    "k = 1\n",
    "while p_value(student.rvs(df=k, size=n)) < alpha:\n",
    "    k += 1\n",
    "print(k)"
   ],
   "metadata": {
    "id": "G7xMwj0qOJvZ",
    "ExecuteTime": {
     "end_time": "2023-12-20T19:41:47.474345600Z",
     "start_time": "2023-12-20T19:41:47.435954800Z"
    }
   },
   "execution_count": 72,
   "outputs": [
    {
     "name": "stdout",
     "output_type": "stream",
     "text": [
      "3\n"
     ]
    }
   ]
  },
  {
   "cell_type": "markdown",
   "metadata": {
    "id": "6b-UUsBsRLPb"
   },
   "source": [
    "##Критерий согласия Колмогорова."
   ]
  },
  {
   "cell_type": "markdown",
   "source": [
    "2.1 Вспомните прошлые домашки и сформулируйте теорему Гливенко-Кантелли, а именно часть о поведении статистики $\\sqrt{n}D_n$. Постройте по этой теореме критерий согласия Колмогорова вида: если некоторая выборочная статистика попадает в некоторый интервал с конечными (квантили распределения Колмогорова) или бесконечными границами, то гипотеза отвергается."
   ],
   "metadata": {
    "id": "RS0TRvV6T1Z-"
   }
  },
  {
   "cell_type": "markdown",
   "source": [
    "2.2\n",
    "\n",
    "Промоделируйте поведение статистики $\\sqrt{n}D_n$ для достаточно большого (1000+) n. Посчитайте выборочные квантили, которые Вам потребуются для критерия."
   ],
   "metadata": {
    "id": "1duSbfCIUAXM"
   }
  },
  {
   "cell_type": "code",
   "source": [
    "from math import sqrt\n",
    "N = 1000\n",
    "size = 10000\n",
    "sample = normal.rvs(size=(N, size))\n",
    "\n",
    "def statistic(samples, cdf):\n",
    "    sorted_samples = np.sort(samples, axis=1)\n",
    "    probs = cdf(sorted_samples)\n",
    "    sample_size = samples.shape[1]\n",
    "    ecdf = np.arange(1, sample_size + 1)\n",
    "    \n",
    "    D_minus = np.max(ecdf / sample_size - probs, axis=1)\n",
    "    D_plus = np.max(probs - (ecdf - 1) / sample_size, axis=1)\n",
    "    statistics = np.max(np.vstack([D_minus, D_minus]), axis=0) * sqrt(sample_size)\n",
    "    return statistics\n",
    "\n",
    "\n",
    "stat = statistic(sample, normal.cdf)\n",
    "quantile = np.percentile(stat, q=(1 - alpha) * 100)\n",
    "print(f\"95%-квантиль распределения Колмогорова из statistic: {quantile}\")\n",
    "quantile_scipy = sps.ksone.ppf(1 - alpha, n=size) * sqrt(size)\n",
    "print(f\"95%-квантиль распределения Колмогорова из scipy: {quantile_scipy}\")"
   ],
   "metadata": {
    "id": "D7q9ugnGUw8r",
    "ExecuteTime": {
     "end_time": "2023-12-20T19:41:47.515377900Z",
     "start_time": "2023-12-20T19:41:47.463608500Z"
    }
   },
   "execution_count": 73,
   "outputs": []
  },
  {
   "cell_type": "markdown",
   "source": [
    "2.3 Сгенерируйте 1000 нормальных выборок размера 100 и посмотрите, как часто критерий отвергает гипотезу."
   ],
   "metadata": {
    "id": "EHeHf0NyUwiH"
   }
  },
  {
   "cell_type": "code",
   "source": [
    "sample_size = 100 \n",
    "samples = normal.rvs((N, sample_size))\n",
    "D = statistic(samples, normal.cdf)\n",
    "reject_freq = np.sum(D > quantile) / N\n",
    "\n",
    "print(f\"гипотеза о нормальности распределения отвергается в {reject_freq} случаях\")"
   ],
   "metadata": {
    "id": "s1hSQ_jJU74c",
    "ExecuteTime": {
     "end_time": "2023-12-20T19:41:47.538715300Z",
     "start_time": "2023-12-20T19:41:47.481340500Z"
    }
   },
   "execution_count": 74,
   "outputs": []
  },
  {
   "cell_type": "markdown",
   "source": [
    "2.4 Найдите такой максимальный параметр распределения Стьюдента k, при котором гипотеза о нормальности перестаёт отвергаться."
   ],
   "metadata": {
    "id": "4KJGR-WbU8Na"
   }
  },
  {
   "cell_type": "code",
   "source": [
    "samples = normal.rvs((N, sample_size))\n",
    "rejects = 0\n",
    "for sample in samples:\n",
    "    stat, p_value = sps.shapiro(sample)\n",
    "    rejects += (p_value <= alpha)\n",
    "    \n",
    "reject_freq = rejects / N\n",
    "\n",
    "print(f\"Гипотеза о нормальности распределения отвергается в {reject_freq*100}% случаях\")"
   ],
   "metadata": {
    "id": "PYwWshD7VD8l",
    "ExecuteTime": {
     "end_time": "2023-12-20T20:35:18.196625300Z",
     "start_time": "2023-12-20T20:35:16.196819700Z"
    }
   },
   "execution_count": 88,
   "outputs": [
    {
     "ename": "NameError",
     "evalue": "name 'statistic' is not defined",
     "output_type": "error",
     "traceback": [
      "\u001B[1;31m---------------------------------------------------------------------------\u001B[0m",
      "\u001B[1;31mNameError\u001B[0m                                 Traceback (most recent call last)",
      "Cell \u001B[1;32mIn[88], line 9\u001B[0m\n\u001B[0;32m      6\u001B[0m grid \u001B[38;5;241m=\u001B[39m np\u001B[38;5;241m.\u001B[39mlinspace(\u001B[38;5;241m-\u001B[39m\u001B[38;5;241m5\u001B[39m, \u001B[38;5;241m5\u001B[39m)\n\u001B[0;32m      7\u001B[0m plt\u001B[38;5;241m.\u001B[39mplot(grid, normal\u001B[38;5;241m.\u001B[39mcdf(grid), label\u001B[38;5;241m=\u001B[39m\u001B[38;5;124m'\u001B[39m\u001B[38;5;124m$\u001B[39m\u001B[38;5;124m\\\u001B[39m\u001B[38;5;124mmathcal\u001B[39m\u001B[38;5;132;01m{N}\u001B[39;00m\u001B[38;5;124m(0,1)\u001B[39m\u001B[38;5;124m'\u001B[39m)\n\u001B[1;32m----> 9\u001B[0m \u001B[38;5;28;01mwhile\u001B[39;00m statistic(samples, normal\u001B[38;5;241m.\u001B[39mcdf)[\u001B[38;5;241m0\u001B[39m] \u001B[38;5;241m>\u001B[39m quantile:\n\u001B[0;32m     10\u001B[0m     \u001B[38;5;28;01mif\u001B[39;00m k \u001B[38;5;241m%\u001B[39m \u001B[38;5;241m3\u001B[39m \u001B[38;5;241m==\u001B[39m \u001B[38;5;241m1\u001B[39m:\n\u001B[0;32m     11\u001B[0m         sns\u001B[38;5;241m.\u001B[39mecdfplot(samples[\u001B[38;5;241m0\u001B[39m], label\u001B[38;5;241m=\u001B[39m\u001B[38;5;124mf\u001B[39m\u001B[38;5;124m\"\u001B[39m\u001B[38;5;124mStudent(\u001B[39m\u001B[38;5;132;01m{\u001B[39;00mk\u001B[38;5;132;01m}\u001B[39;00m\u001B[38;5;124m)\u001B[39m\u001B[38;5;124m\"\u001B[39m)\n",
      "\u001B[1;31mNameError\u001B[0m: name 'statistic' is not defined"
     ]
    },
    {
     "data": {
      "text/plain": "<Figure size 1200x800 with 1 Axes>",
      "image/png": "[encoded data removed]"
     },
     "metadata": {
      "image/png": {
       "width": 992,
       "height": 694
      }
     },
     "output_type": "display_data"
    }
   ]
  },
  {
   "cell_type": "markdown",
   "metadata": {
    "id": "xpOkSJAw6npb"
   },
   "source": [
    "### Продвинутые критерии согласия\n",
    "\n",
    "Этот пункт бонусный (+5 баллов)\n",
    "\n",
    "3. Проделайте действия из первой части задачи для критерия Андерсона-Дарлинга и/или Крамера-фон Мизеса-Смирнова."
   ]
  },
  {
   "cell_type": "code",
   "source": [
    "#Ваш код здесь"
   ],
   "metadata": {
    "id": "Nf9KvffDVchs",
    "ExecuteTime": {
     "end_time": "2023-12-20T19:41:47.589415600Z",
     "start_time": "2023-12-20T19:41:47.572718Z"
    }
   },
   "execution_count": 76,
   "outputs": []
  },
  {
   "cell_type": "markdown",
   "source": [
    "### Критерий согласия Пирсона"
   ],
   "metadata": {
    "id": "qtCeZXpkVlew"
   }
  },
  {
   "cell_type": "markdown",
   "source": [
    "4.1 Изучите критерий согласия Пирсона. В оригинальной постановке он работает для дискретных распределений. Предложите способ проверки при помощи него гипотез согласия для непрерывных распределений."
   ],
   "metadata": {
    "id": "aQTF7brPVsyk"
   }
  },
  {
   "cell_type": "markdown",
   "source": [
    "Ответ:"
   ],
   "metadata": {
    "id": "kUuG0hqBV7T7"
   }
  },
  {
   "cell_type": "markdown",
   "source": [
    "4.2 Постройте критерий согласия Пирсона для нормальных распределений. Опишите, какие квантили для распределения хи-квадрат Вам потребуются."
   ],
   "metadata": {
    "id": "ErX_m43wWH4U"
   }
  },
  {
   "cell_type": "markdown",
   "source": [
    "Ответ:"
   ],
   "metadata": {
    "id": "TZSTU4l1Wh-E"
   }
  },
  {
   "cell_type": "markdown",
   "source": [
    "4.3. Промоделируйте статистику хи-квадрат, считая доступным только нормальное распределение (другие семплировать нельзя!)."
   ],
   "metadata": {
    "id": "V60qkwu6V8VU"
   }
  },
  {
   "cell_type": "code",
   "source": [
    "#Ваш код здесь"
   ],
   "metadata": {
    "id": "OJQWihN_Vrcq",
    "ExecuteTime": {
     "end_time": "2023-12-20T19:41:47.643805900Z",
     "start_time": "2023-12-20T19:41:47.591416500Z"
    }
   },
   "execution_count": 77,
   "outputs": []
  },
  {
   "cell_type": "markdown",
   "source": [
    "Выполните пункты, аналогичные 2.3 и 2.4. Постарайтесь так построить критерий согласия Пирсона, чтобы параметр k был как можно больше."
   ],
   "metadata": {
    "id": "4Dr8oS-RWmeF"
   }
  },
  {
   "cell_type": "code",
   "source": [
    "#Ваш код здесь"
   ],
   "metadata": {
    "id": "wbQMm9HkWuyB",
    "ExecuteTime": {
     "end_time": "2023-12-20T19:41:47.648806700Z",
     "start_time": "2023-12-20T19:41:47.609976200Z"
    }
   },
   "execution_count": 78,
   "outputs": []
  },
  {
   "cell_type": "markdown",
   "source": [
    "### Стандартные способы проверки"
   ],
   "metadata": {
    "id": "lcXdB69-WvSm"
   }
  },
  {
   "cell_type": "markdown",
   "source": [
    "5.1 Изучите критерий Шапиро-Уилка: https://docs.scipy.org/doc/scipy/reference/generated/scipy.stats.shapiro.html#scipy.stats.shapiro\n",
    "\n",
    "Что он проверяет? Будет ли он корректен для проверки распределения на равенство N(0, 1)?"
   ],
   "metadata": {
    "id": "JH08vhg9Wxx2"
   }
  },
  {
   "cell_type": "markdown",
   "source": [
    "Ответ:"
   ],
   "metadata": {
    "id": "tbJk4LNWXA_j"
   }
  },
  {
   "cell_type": "markdown",
   "source": [
    "Проделайте пункты, аналогичные 2.3 и 2.4 для этого критерия."
   ],
   "metadata": {
    "id": "vZD26dEoXET9"
   }
  },
  {
   "cell_type": "code",
   "source": [
    "#Ваш код здесь"
   ],
   "metadata": {
    "id": "Dqt6HDqpWxUw",
    "ExecuteTime": {
     "end_time": "2023-12-20T19:41:47.700807400Z",
     "start_time": "2023-12-20T19:41:47.651807900Z"
    }
   },
   "execution_count": 79,
   "outputs": []
  },
  {
   "cell_type": "markdown",
   "source": [
    "Сделайте вывод о всех выполненных частях:\n",
    "\n"
   ],
   "metadata": {
    "id": "yzsN3QQoXNLr"
   }
  },
  {
   "cell_type": "markdown",
   "source": [
    "##Задача 2 (10 баллов)"
   ],
   "metadata": {
    "id": "5pHhHoiriVTG"
   }
  },
  {
   "cell_type": "markdown",
   "source": [
    "**Это исследовательская задача!**"
   ],
   "metadata": {
    "id": "SmVA_9lipzYZ"
   }
  },
  {
   "cell_type": "markdown",
   "source": [
    "### Часть 1. Одномерный хи-квадрат"
   ],
   "metadata": {
    "id": "p5xW8rElp1gy"
   }
  },
  {
   "cell_type": "markdown",
   "source": [
    "Британские учёные провели ряд экспериментов по выяснению склонности людей к неравнозначному выбору стратегии в камень-ножницы-бумага. По результатам 119 экспериментальных матчей было обнаружено, что 66 человек выбирали первым камень, 39 бумагу и 14 ножницы. Используя критерий хи-квадрат выясните, существует ли статистически достоверная выигрышная стратегия выбора первого хода.\n",
    "\n",
    "Пользоваться критерием хи-квадрат из коробки запрещено. Распределение моделировать самому (или взять квантили из прошлой задачи).\n",
    "\n",
    "Эта задача будет оцениваться не сколько за вычисления, сколько за правильный подход к формулировке условий, методов и вывода."
   ],
   "metadata": {
    "id": "WedtomGUnudU"
   }
  },
  {
   "cell_type": "markdown",
   "source": [
    "1. Сформулируйте статистическую гипотезу, которую будете проверять."
   ],
   "metadata": {
    "id": "INUvuurto_BE"
   }
  },
  {
   "cell_type": "markdown",
   "source": [
    "2. Выберите уровень значимости и объясните выбор."
   ],
   "metadata": {
    "id": "XHMwyX0UpDo1"
   }
  },
  {
   "cell_type": "markdown",
   "source": [
    "3. Посчитайте необходимые величины."
   ],
   "metadata": {
    "id": "VBdZVUXgpOej"
   }
  },
  {
   "cell_type": "code",
   "source": [
    "#Ваш код здесь"
   ],
   "metadata": {
    "id": "pyQ_G4SUNZF5",
    "ExecuteTime": {
     "end_time": "2023-12-20T19:41:47.755773900Z",
     "start_time": "2023-12-20T19:41:47.703125200Z"
    }
   },
   "execution_count": 80,
   "outputs": []
  },
  {
   "cell_type": "markdown",
   "source": [
    "4. Дайте ответ на поставленный вопрос, чётко дав пояснение как надо играть и почему Вашему анализу можно верить. Используйте понятия \"p-value\", \"гипотеза\", \"уровень значимости\", \"отвергать/принимать.\""
   ],
   "metadata": {
    "id": "hOVM1Y_upSWD"
   }
  },
  {
   "cell_type": "markdown",
   "source": [
    "### Часть 2. Двумерный критерий хи-квадрат."
   ],
   "metadata": {
    "id": "z7NgVRjGpq9E"
   }
  },
  {
   "cell_type": "markdown",
   "source": [
    "Критерий хи-квадрат на практике даёт простой и тем не менее самый популярный способ проверки категориальных данных на наличие зависимостей. Например, чтобы проверить, зависит ли время решения практики по статистике (в часах) от выпитого алкогольного напитка напрямую перед началом работы, поступают так: делают таблицу, где по одной размерности откладывают часы (от 1 до 5, скажем), а по другой --- напитки (пиво, вино, водка, вода,....) и в ячейку ставят число наблюдений (студентов), выпивших заданный напиток и сделавших прак за заданное число часов (ровно). И далее применяют хи-квадрат критерий (см. ниже)."
   ],
   "metadata": {
    "id": "diXp20_erDTe"
   }
  },
  {
   "cell_type": "markdown",
   "source": [
    "Изучите пример применения обобщённого критерия хи-квадрат для проверки независимости категориальных выборок: https://en.wikipedia.org/wiki/Chi-squared_test#Example_chi-squared_test_for_categorical_data"
   ],
   "metadata": {
    "id": "GIAl4DZ9qbOv"
   }
  },
  {
   "cell_type": "markdown",
   "source": [
    "Чтобы сразу дать практический пример, рассмотрим оценки двух случайных групп на первом курсе по последней контрольной по логике. Необходимо узнать, верно ли, что одна группа справилась лучше, чем другая (как правильно поставить гипотезу для двумерного хи-квадрат критерия подумайте сами). Подсказка: будем считать, что группы справились неодинаково, если распределение людей, решивших 1, 2, 3, 4, 5 (категориальное) в разных группах *существенно отличается* (это мы и проверяем). Эквивалентно, распределение *зависит* от группы. А вот как проверить, что какая-то группа справилась лучше решите сами."
   ],
   "metadata": {
    "id": "VGBvs8uKrCur"
   }
  },
  {
   "cell_type": "markdown",
   "source": [
    "Данные (в списке указано число задач, которое решил каждый студент):"
   ],
   "metadata": {
    "id": "get7l1_KyPMd"
   }
  },
  {
   "cell_type": "code",
   "source": [
    "group1 = [3, 4, 4, 3, 1, 1, 4, 1, 1, 0, 4, 1, 4, 4, 2, 4, 1]\n",
    "group2 = [1, 3, 1, 3, 4, 3, 5, 5, 4, 2, 5, 4, 5, 4, 3, 3, 2, 3]"
   ],
   "metadata": {
    "id": "tRgvUI0UydNx",
    "ExecuteTime": {
     "end_time": "2023-12-20T19:41:47.781772700Z",
     "start_time": "2023-12-20T19:41:47.743331600Z"
    }
   },
   "execution_count": 81,
   "outputs": []
  },
  {
   "cell_type": "markdown",
   "source": [
    "Сформулируйте гипотезу для критерия хи-квадрат и постройте табличную выборку."
   ],
   "metadata": {
    "id": "cxW2JrzK2v5e"
   }
  },
  {
   "cell_type": "markdown",
   "source": [
    "Ответ:"
   ],
   "metadata": {
    "id": "eVoXhEUeNsX6"
   }
  },
  {
   "cell_type": "code",
   "source": [
    "#Ваш код здесь"
   ],
   "metadata": {
    "id": "2UsyH6Hj2zyx",
    "ExecuteTime": {
     "end_time": "2023-12-20T19:41:47.801981800Z",
     "start_time": "2023-12-20T19:41:47.783773Z"
    }
   },
   "execution_count": 82,
   "outputs": []
  },
  {
   "cell_type": "markdown",
   "source": [
    "Посчитайте необходимые статистики и сделайте вывод, какая группа справилась лучше с контрольной работой и значимы ли изменения. Напишите вывод с использованием терминов из темы \"проверка гипотез\"."
   ],
   "metadata": {
    "id": "Fk36db-e20UG"
   }
  },
  {
   "cell_type": "markdown",
   "source": [
    "## Задача 3. Корреляция."
   ],
   "metadata": {
    "id": "neceelpl2_VJ"
   }
  },
  {
   "cell_type": "markdown",
   "source": [
    "Подопытным первокурсникам было предложено решить контрольную работу по логике и отметить по шкале от 1 до 10 своё мнение о сложности работы. Проверьте, насколько скоррелированы показатели \"оценка сложности работы\" и \"оценка за работу\"."
   ],
   "metadata": {
    "id": "EX2mEAA-3MDU"
   }
  },
  {
   "cell_type": "markdown",
   "source": [
    "1. Данные. Каждая строка это два числа: мнение студента о работе (от 1 до 10) и его оценка (вещественное неотрицательное число)."
   ],
   "metadata": {
    "id": "XVcdOjCc3dYD"
   }
  },
  {
   "cell_type": "markdown",
   "source": [
    "1 2.6\n",
    "\n",
    "2 1.8\n",
    "\n",
    "2 2.6\n",
    "\n",
    "2 2.6\n",
    "\n",
    "2 2.6\n",
    "\n",
    "2 2.6\n",
    "\n",
    "2 2.6\n",
    "\n",
    "2 1.2\n",
    "\n",
    "3 1.6\n",
    "\n",
    "3 1.4\n",
    "\n",
    "3 2.2\n",
    "\n",
    "4 2.2\n",
    "\n",
    "4 2.2\n",
    "\n",
    "4 2.2\n",
    "\n",
    "4 1.6\n",
    "\n",
    "4 2.2\n",
    "\n",
    "5 0\n",
    "\n",
    "5 1.8\n",
    "\n",
    "5 2.6\n",
    "\n",
    "5 1.2\n",
    "\n",
    "5 2.2\n",
    "\n",
    "5 1.6\n",
    "\n",
    "6 1.4\n",
    "\n",
    "6 1.8\n",
    "\n",
    "7 0.8\n",
    "\n",
    "7 2.2\n",
    "\n",
    "7 1\n",
    "\n",
    "8 1.2\n",
    "\n",
    "9 0.8\n",
    "\n",
    "10 0.8\n",
    "\n",
    "10 2.2\n",
    "\n",
    "10 2.2\n",
    "\n",
    "10 2.2\n",
    "\n",
    "10 0\n"
   ],
   "metadata": {
    "id": "3urRPA1X3nv3"
   }
  },
  {
   "cell_type": "markdown",
   "source": [
    "Соберите их в любой удобный вид и визуализируйте."
   ],
   "metadata": {
    "id": "XhvcU5k76Wue"
   }
  },
  {
   "cell_type": "code",
   "source": [
    "#Ваш код здесь"
   ],
   "metadata": {
    "id": "8vw_XzP22-sl",
    "ExecuteTime": {
     "end_time": "2023-12-20T19:41:47.842424600Z",
     "start_time": "2023-12-20T19:41:47.804980300Z"
    }
   },
   "execution_count": 83,
   "outputs": []
  },
  {
   "cell_type": "markdown",
   "source": [
    "Посчитайте коэффициенты корреляции Пирсона и Спирмена. Отличаются ли они? Почему?"
   ],
   "metadata": {
    "id": "DQoajeFa6aIA"
   }
  },
  {
   "cell_type": "code",
   "source": [
    "#Ваш код здесь"
   ],
   "metadata": {
    "id": "0vCYvqCr6gUZ",
    "ExecuteTime": {
     "end_time": "2023-12-20T19:41:47.890651500Z",
     "start_time": "2023-12-20T19:41:47.812354500Z"
    }
   },
   "execution_count": 84,
   "outputs": []
  },
  {
   "cell_type": "markdown",
   "source": [
    "Необходимо подтвердить наличие зависимости между двумя выборками. Сформулируйте гипотезу о независимости на основании коэффициентов корреляции Пирсона и Спирмена и проверьте её на заранее выбранном Вами (обоснуйте выбор) уровне значимости."
   ],
   "metadata": {
    "id": "IF7fOVpn6g2l"
   }
  },
  {
   "cell_type": "code",
   "source": [
    "#Ваш код здесь"
   ],
   "metadata": {
    "id": "dUbSukLz7tQP",
    "ExecuteTime": {
     "end_time": "2023-12-20T19:41:47.911337400Z",
     "start_time": "2023-12-20T19:41:47.845397600Z"
    }
   },
   "execution_count": 85,
   "outputs": []
  },
  {
   "cell_type": "markdown",
   "source": [
    "Мы столкнулись с интересным эффектом --- гипотеза, которую мы проверяем может быть проверена двумя критериями. Давайте для простоты пока считать, что статистики критериев Пирсона и Спирмена независимы (хотя это не так, но часто бывают случаи, когда это так). Как принимать решение, если у критериев разное мнение о верности гипотезы? А если бы критериев было 3 и ответы были бы разными? Допустим, у каждого критерия ошибка первого рода ограничена уровнем значимости $\\alpha$. Каким в таком случае значением ограничена вероятность ошибки первого рода хотя бы у одного из критериев?"
   ],
   "metadata": {
    "id": "KgZb1iaP7tvN"
   }
  },
  {
   "cell_type": "markdown",
   "source": [
    "Ответ:"
   ],
   "metadata": {
    "id": "zM_9HHXL8lKg"
   }
  },
  {
   "cell_type": "markdown",
   "source": [
    "На основании вопросов выше сделайте вывод о том, к как лучше всего стоит работать в случае, когда несколько критериев применяются одновременно:"
   ],
   "metadata": {
    "id": "TT9yUUZ08o_M"
   }
  },
  {
   "cell_type": "markdown",
   "source": [
    "На практике это называется **множественная проверка гипотез**. Можете поискать об этом информацию и написать поправку Бонферонни или любую другую. Эта часть не оценивается, но может быть интересна:"
   ],
   "metadata": {
    "id": "X4B6Kp-W8xjU"
   }
  },
  {
   "cell_type": "code",
   "source": [
    "#Ваш код здесь"
   ],
   "metadata": {
    "id": "x4rQUC_j8ktD",
    "ExecuteTime": {
     "end_time": "2023-12-20T19:41:47.947336700Z",
     "start_time": "2023-12-20T19:41:47.898821300Z"
    }
   },
   "execution_count": 86,
   "outputs": []
  },
  {
   "cell_type": "markdown",
   "source": [
    "Сделайте вывод о том, есть ли всё-таки связь между мнением студента о сложности контрольной и его оценкой:"
   ],
   "metadata": {
    "id": "QlRTWDu989hJ"
   }
  },
  {
   "cell_type": "code",
   "source": [
    "import numpy as np\n",
    "import scipy.stats as sps\n",
    "\n",
    "\n",
    "def spoil_sample(sample, x, emitter):\n",
    "  size = len(sample)\n",
    "  spoiled_sample = sample[int(x/2 * size) : int((1 - x/2) * size)]\n",
    "  spoiled_sample = np.append(spoiled_sample, emitter)\n",
    "  return spoiled_sample\n",
    "\n",
    "alpha_grid = np.linspace(0, 0.5, 100)\n",
    "\n",
    "def spoiled_mean_variance(sample, x_grid, emitter):\n",
    "    var = []\n",
    "    for x in alpha_grid:\n",
    "        spoled_mean = np.mean(spoil_sample(sample, x, emitter))\n",
    "        var = np.append(var, (np.mean(sample) - spoled_mean)**2)\n",
    "    return var\n",
    "\n",
    "\n",
    "def spoiled_median_variance(sample, x_grid, emitter):\n",
    "    var = []\n",
    "    for x in alpha_grid:\n",
    "        spoled_median = np.median(spoil_sample(sample, x, emitter))\n",
    "        var= np.append(var, (np.median(sample) - spoled_median)**2)\n",
    "    return var\n",
    "\n",
    "emitter = 100\n",
    "N = 500\n",
    "loc = 2\n",
    "scale = 1\n",
    "norm_sample = sps.norm.rvs(size=N, loc=loc, scale=scale)\n",
    "laplace_sample = sps.laplace.rvs(size=N, loc=loc, scale=scale)\n",
    "cauchy_sample = sps.cauchy.rvs(size=N, loc=loc, scale=scale)\n",
    "samples = [norm_sample, laplace_sample, cauchy_sample]\n",
    "\n",
    "for d in range(1):\n",
    "    print(spoiled_mean_variance(np.array(samples[d]), alpha_grid, emitter))"
   ],
   "metadata": {
    "id": "BfVAss-T9EOx",
    "ExecuteTime": {
     "end_time": "2023-12-24T13:31:50.777870900Z",
     "start_time": "2023-12-24T13:31:50.742046100Z"
    }
   },
   "execution_count": 17,
   "outputs": [
    {
     "name": "stdout",
     "output_type": "stream",
     "text": [
      "[0.03824963 0.04084161 0.04202742 0.04315016 0.04617498 0.0466797\n",
      " 0.04523247 0.04529414 0.04832147 0.05174112 0.05322468 0.0524283\n",
      " 0.05411234 0.05315268 0.05406906 0.05395121 0.05258171 0.054125\n",
      " 0.05348466 0.05361996 0.0504032  0.05259433 0.05452901 0.05025389\n",
      " 0.04949816 0.05055634 0.05352127 0.05387899 0.05312494 0.05395657\n",
      " 0.05632294 0.05947238 0.05839627 0.05830435 0.06106204 0.06494018\n",
      " 0.06181195 0.06254247 0.06461194 0.06818157 0.07306023 0.0735243\n",
      " 0.07202516 0.07161428 0.07276175 0.07181138 0.07577539 0.07784801\n",
      " 0.07488184 0.07590628 0.07723033 0.07726134 0.07745322 0.08012026\n",
      " 0.0875536  0.09235649 0.09014463 0.08876664 0.08678253 0.08942728\n",
      " 0.09261064 0.09816815 0.09963481 0.10621422 0.11060902 0.10874316\n",
      " 0.10936801 0.10967893 0.1125958  0.11077668 0.10868162 0.11165234\n",
      " 0.10850091 0.11199495 0.11301391 0.11845538 0.12332775 0.12531428\n",
      " 0.12741774 0.13213833 0.14265609 0.14186352 0.14151373 0.14043658\n",
      " 0.14046482 0.13942854 0.13632924 0.14197496 0.14455168 0.14645962\n",
      " 0.15381965 0.15855259 0.16058353 0.16923057 0.18107309 0.18611385\n",
      " 0.18754295 0.19466881 0.19381954 0.19390099]\n"
     ]
    }
   ]
  }
 ]
}
