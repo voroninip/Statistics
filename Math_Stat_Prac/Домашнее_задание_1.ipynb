{
 "nbformat": 4,
 "nbformat_minor": 0,
 "metadata": {
  "colab": {
   "provenance": [],
   "toc_visible": true
  },
  "kernelspec": {
   "name": "python3",
   "language": "python",
   "display_name": "Python 3 (ipykernel)"
  }
 },
 "cells": [
  {
   "cell_type": "markdown",
   "metadata": {
    "id": "i3wSAlVeUrzj"
   },
   "source": [
    "# Курс \"Практикум по математической статистике\"\n",
    "# 3 курс ФПМИ МФТИ, осень 2023\n",
    "## Домашнее задание 1. Cвойства и сравнение оценок\n",
    "### Дедлайн --- 10 октября 23:59\n",
    "\n",
    "Это первое обязательное домашнее задание нашего курса. Мы предлагаем выполнять задания прямо в этом ноутбуке. Пожалуйста, не стирайте условия задач.\n",
    "\n",
    "Информация о выполнении и курсе в целом есть в чате курса https://t.me/+IHdLycZDD5g5MDQy.\n",
    "\n",
    "Информация о способе сдачи домашнего задания будет позже.\n",
    "\n",
    "---\n",
    "\n",
    "В этом и последующих заданиях вам потребуется выполнять генерацию случайных величин из некоторого распределения, моделирование оценок параметров и проверку их теоретических свойств на практике. Для этого вам понадобится библиотека scipy.stats. Мы настоятельно рекомендуем для генерации выборок использовать именно эту библиотеку.\n",
    "\n",
    "Настоятельно рекомендуемая форма оформления домашних заданий — это Jupyter Notebook и его pdf-версия с:\n",
    "\n",
    "* условием задачи,\n",
    "* решением (если требуется некоторый теоретический вывод),\n",
    "* описанием плана решения, который потом реализуется в коде,\n",
    "* собственно кодом,\n",
    "* построенными графиками (если это требуется) и **выводом**, который как правило должен заключаться в объяснении практических результатов с использованием теоретических фактов. ***Вывод требуется даже в том случае, если в условии об этом явно не сказано!***\n",
    "* некоторыми другими вещами, если об этом будет указано в задании.\n",
    "\n",
    "Оценка за каждую задачу складывается из правильного выполнения всех этих пунктов. Закрывая на них глаза, вы сознательно понижаете свою оценку.\n",
    "\n",
    "Каждая задача оценивается в 10 баллов."
   ]
  },
  {
   "cell_type": "code",
   "source": [
    "# Matplotlib needed to correctly display suptitles,\n",
    "# as well as some other minor things.\n",
    "# I thought I might as well ensure everything is up-to-date\n",
    "%pip install --upgrade matplotlib numpy scipy statsmodels"
   ],
   "metadata": {
    "id": "ZPMGO8IOyKfa",
    "ExecuteTime": {
     "end_time": "2023-10-23T20:19:53.333952400Z",
     "start_time": "2023-10-23T20:19:13.962191900Z"
    }
   },
   "execution_count": 1,
   "outputs": [
    {
     "name": "stdout",
     "output_type": "stream",
     "text": [
      "Requirement already satisfied: matplotlib in c:\\users\\hotli\\anaconda3\\lib\\site-packages (3.7.2)\n",
      "Collecting matplotlib\n",
      "  Obtaining dependency information for matplotlib from https://files.pythonhosted.org/packages/40/d9/c1784db9db0d484c8e5deeafbaac0d6ed66e165c6eb4a74fb43a5fa947d9/matplotlib-3.8.0-cp311-cp311-win_amd64.whl.metadata\n",
      "  Using cached matplotlib-3.8.0-cp311-cp311-win_amd64.whl.metadata (5.9 kB)\n",
      "Requirement already satisfied: numpy in c:\\users\\hotli\\anaconda3\\lib\\site-packages (1.24.3)\n",
      "Collecting numpy\n",
      "  Obtaining dependency information for numpy from https://files.pythonhosted.org/packages/82/0f/3f712cd84371636c5375d2dd70e7514d264cec6bdfc3d7997a4236e9f948/numpy-1.26.1-cp311-cp311-win_amd64.whl.metadata\n",
      "  Downloading numpy-1.26.1-cp311-cp311-win_amd64.whl.metadata (61 kB)\n",
      "     ---------------------------------------- 0.0/61.2 kB ? eta -:--:--\n",
      "     ------ --------------------------------- 10.2/61.2 kB ? eta -:--:--\n",
      "     ------------ ------------------------- 20.5/61.2 kB 131.3 kB/s eta 0:00:01\n",
      "     ------------ ------------------------- 20.5/61.2 kB 131.3 kB/s eta 0:00:01\n",
      "     ------------------------- ------------ 41.0/61.2 kB 196.9 kB/s eta 0:00:01\n",
      "     ------------------------------- ------ 51.2/61.2 kB 217.9 kB/s eta 0:00:01\n",
      "     -------------------------------------- 61.2/61.2 kB 217.8 kB/s eta 0:00:00\n",
      "Requirement already satisfied: scipy in c:\\users\\hotli\\anaconda3\\lib\\site-packages (1.11.1)\n",
      "Collecting scipy\n",
      "  Obtaining dependency information for scipy from https://files.pythonhosted.org/packages/81/d7/d2537d51efb692d0c411e64267ba349e7668d40f5bc73cefe78ccd650dcd/scipy-1.11.3-cp311-cp311-win_amd64.whl.metadata\n",
      "  Using cached scipy-1.11.3-cp311-cp311-win_amd64.whl.metadata (60 kB)\n",
      "Requirement already satisfied: statsmodels in c:\\users\\hotli\\anaconda3\\lib\\site-packages (0.14.0)\n",
      "Requirement already satisfied: contourpy>=1.0.1 in c:\\users\\hotli\\anaconda3\\lib\\site-packages (from matplotlib) (1.0.5)\n",
      "Requirement already satisfied: cycler>=0.10 in c:\\users\\hotli\\anaconda3\\lib\\site-packages (from matplotlib) (0.11.0)\n",
      "Requirement already satisfied: fonttools>=4.22.0 in c:\\users\\hotli\\anaconda3\\lib\\site-packages (from matplotlib) (4.25.0)\n",
      "Requirement already satisfied: kiwisolver>=1.0.1 in c:\\users\\hotli\\anaconda3\\lib\\site-packages (from matplotlib) (1.4.4)\n",
      "Requirement already satisfied: packaging>=20.0 in c:\\users\\hotli\\anaconda3\\lib\\site-packages (from matplotlib) (23.1)\n",
      "Requirement already satisfied: pillow>=6.2.0 in c:\\users\\hotli\\anaconda3\\lib\\site-packages (from matplotlib) (9.4.0)\n",
      "Requirement already satisfied: pyparsing>=2.3.1 in c:\\users\\hotli\\anaconda3\\lib\\site-packages (from matplotlib) (3.0.9)\n",
      "Requirement already satisfied: python-dateutil>=2.7 in c:\\users\\hotli\\anaconda3\\lib\\site-packages (from matplotlib) (2.8.2)\n",
      "Requirement already satisfied: pandas>=1.0 in c:\\users\\hotli\\anaconda3\\lib\\site-packages (from statsmodels) (2.0.3)\n",
      "Requirement already satisfied: patsy>=0.5.2 in c:\\users\\hotli\\anaconda3\\lib\\site-packages (from statsmodels) (0.5.3)\n",
      "Requirement already satisfied: pytz>=2020.1 in c:\\users\\hotli\\anaconda3\\lib\\site-packages (from pandas>=1.0->statsmodels) (2023.3.post1)\n",
      "Requirement already satisfied: tzdata>=2022.1 in c:\\users\\hotli\\anaconda3\\lib\\site-packages (from pandas>=1.0->statsmodels) (2023.3)\n",
      "Requirement already satisfied: six in c:\\users\\hotli\\anaconda3\\lib\\site-packages (from patsy>=0.5.2->statsmodels) (1.16.0)\n",
      "Using cached matplotlib-3.8.0-cp311-cp311-win_amd64.whl (7.6 MB)\n",
      "Downloading numpy-1.26.1-cp311-cp311-win_amd64.whl (15.8 MB)\n",
      "   ---------------------------------------- 0.0/15.8 MB ? eta -:--:--\n",
      "   ---------------------------------------- 0.0/15.8 MB 991.0 kB/s eta 0:00:16\n",
      "   ---------------------------------------- 0.2/15.8 MB 1.8 MB/s eta 0:00:09\n",
      "   - -------------------------------------- 0.4/15.8 MB 2.6 MB/s eta 0:00:07\n",
      "   - -------------------------------------- 0.6/15.8 MB 3.2 MB/s eta 0:00:05\n",
      "   -- ------------------------------------- 0.8/15.8 MB 3.2 MB/s eta 0:00:05\n",
      "   --- ------------------------------------ 1.2/15.8 MB 4.1 MB/s eta 0:00:04\n",
      "   --- ------------------------------------ 1.5/15.8 MB 4.2 MB/s eta 0:00:04\n",
      "   --- ------------------------------------ 1.6/15.8 MB 4.0 MB/s eta 0:00:04\n",
      "   ----- ---------------------------------- 2.0/15.8 MB 4.1 MB/s eta 0:00:04\n",
      "   ----- ---------------------------------- 2.1/15.8 MB 3.9 MB/s eta 0:00:04\n",
      "   ----- ---------------------------------- 2.2/15.8 MB 3.5 MB/s eta 0:00:04\n",
      "   ------ --------------------------------- 2.5/15.8 MB 3.6 MB/s eta 0:00:04\n",
      "   ------ --------------------------------- 2.7/15.8 MB 3.7 MB/s eta 0:00:04\n",
      "   ------- -------------------------------- 2.9/15.8 MB 3.9 MB/s eta 0:00:04\n",
      "   -------- ------------------------------- 3.2/15.8 MB 4.0 MB/s eta 0:00:04\n",
      "   -------- ------------------------------- 3.4/15.8 MB 3.9 MB/s eta 0:00:04\n",
      "   --------- ------------------------------ 3.6/15.8 MB 4.0 MB/s eta 0:00:04\n",
      "   ---------- ----------------------------- 4.1/15.8 MB 4.1 MB/s eta 0:00:03\n",
      "   ---------- ----------------------------- 4.3/15.8 MB 4.1 MB/s eta 0:00:03\n",
      "   ---------- ----------------------------- 4.3/15.8 MB 4.0 MB/s eta 0:00:03\n",
      "   ------------ --------------------------- 4.8/15.8 MB 4.1 MB/s eta 0:00:03\n",
      "   ------------ --------------------------- 4.9/15.8 MB 4.1 MB/s eta 0:00:03\n",
      "   ------------- -------------------------- 5.4/15.8 MB 4.2 MB/s eta 0:00:03\n",
      "   -------------- ------------------------- 5.6/15.8 MB 4.3 MB/s eta 0:00:03\n",
      "   -------------- ------------------------- 5.8/15.8 MB 4.3 MB/s eta 0:00:03\n",
      "   --------------- ------------------------ 6.0/15.8 MB 4.2 MB/s eta 0:00:03\n",
      "   --------------- ------------------------ 6.2/15.8 MB 4.2 MB/s eta 0:00:03\n",
      "   ---------------- ----------------------- 6.6/15.8 MB 4.3 MB/s eta 0:00:03\n",
      "   ----------------- ---------------------- 6.8/15.8 MB 4.2 MB/s eta 0:00:03\n",
      "   ------------------ --------------------- 7.3/15.8 MB 4.3 MB/s eta 0:00:02\n",
      "   ------------------- -------------------- 7.7/15.8 MB 4.3 MB/s eta 0:00:02\n",
      "   -------------------- ------------------- 7.9/15.8 MB 4.3 MB/s eta 0:00:02\n",
      "   -------------------- ------------------- 8.3/15.8 MB 4.4 MB/s eta 0:00:02\n",
      "   --------------------- ------------------ 8.5/15.8 MB 4.4 MB/s eta 0:00:02\n",
      "   ---------------------- ----------------- 8.7/15.8 MB 4.4 MB/s eta 0:00:02\n",
      "   ---------------------- ----------------- 8.9/15.8 MB 4.4 MB/s eta 0:00:02\n",
      "   ----------------------- ---------------- 9.1/15.8 MB 4.4 MB/s eta 0:00:02\n",
      "   ----------------------- ---------------- 9.5/15.8 MB 4.4 MB/s eta 0:00:02\n",
      "   ------------------------ --------------- 9.8/15.8 MB 4.5 MB/s eta 0:00:02\n",
      "   ------------------------- -------------- 10.1/15.8 MB 4.5 MB/s eta 0:00:02\n",
      "   ------------------------- -------------- 10.2/15.8 MB 4.5 MB/s eta 0:00:02\n",
      "   -------------------------- ------------- 10.5/15.8 MB 4.7 MB/s eta 0:00:02\n",
      "   --------------------------- ------------ 10.8/15.8 MB 4.7 MB/s eta 0:00:02\n",
      "   --------------------------- ------------ 10.9/15.8 MB 4.7 MB/s eta 0:00:02\n",
      "   ---------------------------- ----------- 11.1/15.8 MB 4.8 MB/s eta 0:00:01\n",
      "   ---------------------------- ----------- 11.3/15.8 MB 4.6 MB/s eta 0:00:01\n",
      "   ----------------------------- ---------- 11.6/15.8 MB 4.6 MB/s eta 0:00:01\n",
      "   ------------------------------ --------- 11.9/15.8 MB 4.7 MB/s eta 0:00:01\n",
      "   ------------------------------ --------- 12.0/15.8 MB 4.7 MB/s eta 0:00:01\n",
      "   ------------------------------ --------- 12.2/15.8 MB 4.7 MB/s eta 0:00:01\n",
      "   ------------------------------- -------- 12.6/15.8 MB 5.0 MB/s eta 0:00:01\n",
      "   ------------------------------- -------- 12.6/15.8 MB 4.9 MB/s eta 0:00:01\n",
      "   -------------------------------- ------- 13.0/15.8 MB 4.9 MB/s eta 0:00:01\n",
      "   --------------------------------- ------ 13.2/15.8 MB 4.9 MB/s eta 0:00:01\n",
      "   ---------------------------------- ----- 13.5/15.8 MB 5.0 MB/s eta 0:00:01\n",
      "   ----------------------------------- ---- 13.9/15.8 MB 4.9 MB/s eta 0:00:01\n",
      "   ------------------------------------ --- 14.5/15.8 MB 5.1 MB/s eta 0:00:01\n",
      "   ------------------------------------- -- 14.6/15.8 MB 5.0 MB/s eta 0:00:01\n",
      "   ------------------------------------- -- 14.9/15.8 MB 5.1 MB/s eta 0:00:01\n",
      "   -------------------------------------- - 15.3/15.8 MB 5.1 MB/s eta 0:00:01\n",
      "   ---------------------------------------  15.5/15.8 MB 5.1 MB/s eta 0:00:01\n",
      "   ---------------------------------------  15.7/15.8 MB 5.1 MB/s eta 0:00:01\n",
      "   ---------------------------------------  15.8/15.8 MB 5.1 MB/s eta 0:00:01\n",
      "   ---------------------------------------- 15.8/15.8 MB 4.9 MB/s eta 0:00:00\n",
      "Using cached scipy-1.11.3-cp311-cp311-win_amd64.whl (44.1 MB)\n",
      "Installing collected packages: numpy, scipy, matplotlib\n",
      "  Attempting uninstall: numpy\n",
      "    Found existing installation: numpy 1.24.3\n",
      "    Uninstalling numpy-1.24.3:\n",
      "      Successfully uninstalled numpy-1.24.3\n",
      "Note: you may need to restart the kernel to use updated packages.\n"
     ]
    },
    {
     "name": "stderr",
     "output_type": "stream",
     "text": [
      "ERROR: Could not install packages due to an OSError: [WinError 5] Access is denied: 'C:\\\\Users\\\\hotli\\\\anaconda3\\\\Lib\\\\site-packages\\\\~umpy\\\\core\\\\_multiarray_tests.cp311-win_amd64.pyd'\n",
      "Consider using the `--user` option or check the permissions.\n",
      "\n"
     ]
    }
   ]
  },
  {
   "cell_type": "code",
   "source": [
    "from __future__ import annotations\n",
    "import typing\n",
    "import abc\n",
    "import dataclasses\n",
    "import itertools"
   ],
   "metadata": {
    "id": "aPQRq6Tbyobn",
    "ExecuteTime": {
     "end_time": "2023-10-23T20:19:53.360951600Z",
     "start_time": "2023-10-23T20:19:53.322953Z"
    }
   },
   "execution_count": 2,
   "outputs": []
  },
  {
   "cell_type": "code",
   "metadata": {
    "id": "UiE7nRowVE_K",
    "ExecuteTime": {
     "end_time": "2023-10-23T20:19:53.664156100Z",
     "start_time": "2023-10-23T20:19:53.323954100Z"
    }
   },
   "source": [
    "import numpy as np\n",
    "import matplotlib.pyplot as plt\n",
    "import scipy.stats as sps\n",
    "import seaborn as sns\n",
    "\n",
    "sns.set(style='darkgrid')\n",
    "%matplotlib inline"
   ],
   "execution_count": 3,
   "outputs": []
  },
  {
   "cell_type": "markdown",
   "metadata": {
    "id": "q3Ch1rS4ui2U"
   },
   "source": [
    "**Зафиксируем** `seed` для воспроизводимости."
   ]
  },
  {
   "cell_type": "code",
   "metadata": {
    "id": "Egu6Tzb3ucgn",
    "ExecuteTime": {
     "end_time": "2023-10-23T20:19:53.736155500Z",
     "start_time": "2023-10-23T20:19:53.496949800Z"
    }
   },
   "source": [
    "np.random.seed(42)"
   ],
   "execution_count": 4,
   "outputs": []
  },
  {
   "cell_type": "markdown",
   "source": [
    "**Условие задания**: Аспект-Император трёх морей Анасуримбор Келлхус спустя 20 лет с момента объединения Новой Империи объявляет начало Великой Ордалии --- похода против крепости Голготтерат. Поход займёт более, чем пол года путешествия сквозь безжизненные населённые дикими монстрами пустоши, в связи с чем Келлхус отдаёт приказ всем провинциям выдать провизию для похода, а имперским математикам, коим принадлежите Вы --- сосчитать, каждый ли правитель провинции выполнил приказ качественно.\n",
    "\n",
    "В этой практике Вам придётся оценить число материальных ресурсов, предоставленных каждой из тысячи провинций, лучшим образом и предоставить отчёт, чему равно мат. ожидание числа ресурсов и почему Ваш способ оценивания хорош. Будем надеяться, что в среднем все короли добросовестно выполнили приказ."
   ],
   "metadata": {
    "id": "G2-XslxbvLXt"
   }
  },
  {
   "cell_type": "markdown",
   "source": [
    "**Гайд, как моделировать оценки**:\n",
    "\n",
    "В разных задачах Вы будете видеть ключевое слово \"смоделируйте\". Для моделирования оценки необходимо сгенерировать большое число выборок из одного распределения, построить по каждой из выборок оценку и получить выборку оценок. Далее по выборке оценок можно построить гистограмму или эмпирическую функцию распределения, и сделать выводы о распределении оценок.\n",
    "\n",
    "Как мы знаем по теореме Гливенко-Кантелли, эмпирическая функция распределения сходится к реальной, и, при некоторых условиях, гистограмма сходится к плотности, если она существует."
   ],
   "metadata": {
    "id": "4IUzOiU9xx6K"
   }
  },
  {
   "cell_type": "markdown",
   "metadata": {
    "id": "uUzdoZA_U1Jh"
   },
   "source": [
    "### Задача 1"
   ]
  },
  {
   "cell_type": "markdown",
   "source": [
    "Известно, что количество урожая каждой Нансурской провинции в год подчиняется распределению $U[0, 2]$ в тоннах. Некоторые короли решают оставить существенную часть урожая, мимикрируя под $U[0, \\theta]$ для $\\theta < 2$. Нужно предложить метод оценки $\\theta$. Если значение оценки будет меньше 2, приказ будет считаться невыполненным."
   ],
   "metadata": {
    "id": "kqG-Ew8s3mNJ"
   }
  },
  {
   "cell_type": "markdown",
   "metadata": {
    "id": "_fPGbjuxVnp6"
   },
   "source": [
    "Сгенерируйте N выборок $X_1, \\dots, X_N$ из равномерного распределения на отрезке $[0, \\theta]$ для $N = 10^4$."
   ]
  },
  {
   "cell_type": "code",
   "metadata": {
    "id": "09nKquauV-8r",
    "ExecuteTime": {
     "end_time": "2023-10-23T20:19:53.798156700Z",
     "start_time": "2023-10-23T20:19:53.502950600Z"
    }
   },
   "source": [
    "N = 1e4  # use this\n",
    "N = int(N)"
   ],
   "execution_count": 5,
   "outputs": []
  },
  {
   "cell_type": "code",
   "execution_count": 6,
   "outputs": [],
   "source": [
    "n = 100 # dimension of sample\n",
    "theta = 1.9 # first estimation of theta \n",
    "X = np.zeros((N, n))\n",
    "for i in range(N):\n",
    "    X[i] = sps.uniform.rvs(loc=0, scale=theta, size=n)"
   ],
   "metadata": {
    "collapsed": false,
    "ExecuteTime": {
     "end_time": "2023-10-23T20:19:54.911796900Z",
     "start_time": "2023-10-23T20:19:53.566156100Z"
    }
   }
  },
  {
   "cell_type": "markdown",
   "metadata": {
    "id": "HbWZp00GWXaQ"
   },
   "source": [
    "Для всех $N$ выборок посчитайте оценки параметра $\\theta$ из теоретической задачи: $2\\overline{X}, \\; \\overline{X} + X_{(n)}/ 2, \\; (n+1)X_{(1)}, \\; X_{(1)}+X_{(n)}, \\; \\frac{n+1}{n} X_{(n)}$. Используйте векторные операции.\n",
    "При помощи моделирования выясните, какие оценки точнее, чем другие. Для этого постройте для разных $\\theta$ распределение каждой из оценок. Какая оценка предпочтительнее? Почему? Как это согласуется с принципом среднеквадратичного подхода к сравнению оценок? Посчитайте точный и эмпирический риск каждой из них: $\\hat{R}_{\\theta}(\\theta^*, \\theta) = \\frac{1}{n}\\sum (\\theta^*(S) - \\theta)^2$, где $S$ это выборка и сравните их. Верны ли условия теоремы Рао-Крамера для данного семейства распределений? Существует ли эффективная оценка для равномерного распределения? Сделайте выводы о том, как эмпирический риск связан с теоретическим.\n",
    "\n",
    "__Подсказка:__ Могут быть полезными функции `np.arange`, `np.cumsum`, `np.maximum.accumulate` и `np.minimum.accumulate`"
   ]
  },
  {
   "cell_type": "code",
   "execution_count": 7,
   "outputs": [],
   "source": [
    "Scores = np.zeros((N, 5))\n",
    "MEAN = np.mean(X, axis=1)\n",
    "MAX = np.amax(X, axis=1)\n",
    "MIN = np.amin(X, axis=1)\n",
    "Scores[:, 0] = 2 * MEAN\n",
    "Scores[:, 1] = MEAN + MAX / 2\n",
    "Scores[:, 2] = (n + 1) * MIN\n",
    "Scores[:, 3] = MIN + MAX\n",
    "Scores[:, 4] = (n + 1) * MAX / n\n",
    "        \n",
    "Empirical_Risk = np.zeros(5)\n",
    "for i in range(5):\n",
    "    Empirical_Risk[i] = np.mean((Scores[:, i] - theta) ** 2)"
   ],
   "metadata": {
    "collapsed": false,
    "ExecuteTime": {
     "end_time": "2023-10-23T20:19:54.939794200Z",
     "start_time": "2023-10-23T20:19:54.909794400Z"
    }
   }
  },
  {
   "cell_type": "markdown",
   "source": [
    "Посчитаем точный риск и сравним с эмпирическим для каждой из оценок.\n",
    "\n",
    "1) Оценка $\\theta^* = 2\\overline{X}$ несмещённая, значит,\n",
    "$E(\\theta^* - \\theta)^2 = D\\theta^* = D(2\\overline{X}) = 4\\cdot D\\overline{X} = 4\\frac{DX_1}{n} = 4\\cdot \\frac{\\theta^2}{12n} = \\frac{\\theta^2}{3n}$\n",
    "\n",
    "Итого, точный риск:"
   ],
   "metadata": {
    "collapsed": false
   }
  },
  {
   "cell_type": "code",
   "execution_count": 8,
   "outputs": [
    {
     "data": {
      "text/plain": "0.012033333333333333"
     },
     "execution_count": 8,
     "metadata": {},
     "output_type": "execute_result"
    }
   ],
   "source": [
    "theta**2 / (3*n)"
   ],
   "metadata": {
    "collapsed": false,
    "ExecuteTime": {
     "end_time": "2023-10-23T20:19:55.021166100Z",
     "start_time": "2023-10-23T20:19:54.926793Z"
    }
   }
  },
  {
   "cell_type": "markdown",
   "source": [
    "Эмпирический же:"
   ],
   "metadata": {
    "collapsed": false
   }
  },
  {
   "cell_type": "code",
   "execution_count": 9,
   "outputs": [
    {
     "data": {
      "text/plain": "0.012260793100985184"
     },
     "execution_count": 9,
     "metadata": {},
     "output_type": "execute_result"
    }
   ],
   "source": [
    "Empirical_Risk[0]"
   ],
   "metadata": {
    "collapsed": false,
    "ExecuteTime": {
     "end_time": "2023-10-23T20:19:55.062764Z",
     "start_time": "2023-10-23T20:19:54.938794200Z"
    }
   }
  },
  {
   "cell_type": "markdown",
   "source": [
    "2) Оценка $\\theta^* = \\overline{X} + X_{(n)}/2$ это какой-то ужас...\n",
    "Со слов знатоков $E(\\theta^* - \\theta)^2 = \\frac{n^2 + 15n + 2}{12n(n+1)(n+2)}\\theta^2$\n",
    "\n",
    "Итого, точный риск:\n"
   ],
   "metadata": {
    "collapsed": false
   }
  },
  {
   "cell_type": "code",
   "execution_count": 10,
   "outputs": [
    {
     "data": {
      "text/plain": "0.003358750728013978"
     },
     "execution_count": 10,
     "metadata": {},
     "output_type": "execute_result"
    }
   ],
   "source": [
    "theta**2 * (n**2 + 15*n + 2) / (12*n*(n+1)*(n+2))"
   ],
   "metadata": {
    "collapsed": false,
    "ExecuteTime": {
     "end_time": "2023-10-23T20:19:55.072763600Z",
     "start_time": "2023-10-23T20:19:54.953793900Z"
    }
   }
  },
  {
   "cell_type": "markdown",
   "source": [
    "А эмпирический:"
   ],
   "metadata": {
    "collapsed": false
   }
  },
  {
   "cell_type": "code",
   "execution_count": 11,
   "outputs": [
    {
     "data": {
      "text/plain": "0.003413683709440187"
     },
     "execution_count": 11,
     "metadata": {},
     "output_type": "execute_result"
    }
   ],
   "source": [
    "Empirical_Risk[1]"
   ],
   "metadata": {
    "collapsed": false,
    "ExecuteTime": {
     "end_time": "2023-10-23T20:19:55.076762400Z",
     "start_time": "2023-10-23T20:19:54.967793500Z"
    }
   }
  },
  {
   "cell_type": "markdown",
   "source": [
    "3) Оценка $(n+1)X_{(1)}$ несмещённая, значит, \n",
    "$E(\\theta^* - \\theta)^2 = D\\theta^* = D\\left((n+1)X_{(1)}\\right) = (n+1)^2\\cdot DX_{(1)}$\n",
    "\n",
    "Но $DX_{(1)} = DX_{(n)} = \\frac{n\\cdot\\theta^2}{(n+2)(n+1)^2}$\n",
    "Значит, $D\\left((n+1)X_{(1)}\\right) = \\frac{n}{n+2}\\cdot \\theta^2$\n",
    "\n",
    "Итого, точный риск:"
   ],
   "metadata": {
    "collapsed": false
   }
  },
  {
   "cell_type": "code",
   "execution_count": 12,
   "outputs": [
    {
     "data": {
      "text/plain": "3.5392156862745097"
     },
     "execution_count": 12,
     "metadata": {},
     "output_type": "execute_result"
    }
   ],
   "source": [
    "theta**2 * n/(n+2)"
   ],
   "metadata": {
    "collapsed": false,
    "ExecuteTime": {
     "end_time": "2023-10-23T20:19:55.078763100Z",
     "start_time": "2023-10-23T20:19:54.983794Z"
    }
   }
  },
  {
   "cell_type": "markdown",
   "source": [
    "Эмпирический же:"
   ],
   "metadata": {
    "collapsed": false
   }
  },
  {
   "cell_type": "code",
   "execution_count": 13,
   "outputs": [
    {
     "data": {
      "text/plain": "3.657850388908459"
     },
     "execution_count": 13,
     "metadata": {},
     "output_type": "execute_result"
    }
   ],
   "source": [
    "Empirical_Risk[2]"
   ],
   "metadata": {
    "collapsed": false,
    "ExecuteTime": {
     "end_time": "2023-10-23T20:19:55.427763600Z",
     "start_time": "2023-10-23T20:19:54.999311900Z"
    }
   }
  },
  {
   "cell_type": "markdown",
   "source": [
    "4) Оценка $\\theta^* = X_{(1)}+X_{(n)}$ несмещённая, значит, \n",
    "$E(\\theta^* - \\theta)^2 = D\\theta^* = D\\left(X_{(1)}+X_{(n)}\\right) = DX_{(1)} + DX_{(n)} + 2\\cdot cov(X_{(1)}, X_{(n)})$ \n",
    "\n",
    "Притом $E(X_{(1)} \\cdot X_{(n)}) = \\frac{\\theta^2}{n+2}$\n",
    "\n",
    "Откуда $cov(X_{(1)}, X_{(n)}) = E(X_{(1)} \\cdot X_{(n)}) - E(X_{(1)}) \\cdot E(X_{(n)}) = \\frac{\\theta^2}{(n+2)(n+1)^2}$ \n",
    "$D\\theta^* = \\frac{2}{(n+1)(n+2)}\\theta^2$\n",
    "\n",
    "Итого, точный риск:"
   ],
   "metadata": {
    "collapsed": false
   }
  },
  {
   "cell_type": "code",
   "execution_count": 14,
   "outputs": [
    {
     "data": {
      "text/plain": "0.000700834789361289"
     },
     "execution_count": 14,
     "metadata": {},
     "output_type": "execute_result"
    }
   ],
   "source": [
    "theta**2 * 2 / ((n+1)*(n+2))"
   ],
   "metadata": {
    "collapsed": false,
    "ExecuteTime": {
     "end_time": "2023-10-23T20:19:55.510762600Z",
     "start_time": "2023-10-23T20:19:55.020168200Z"
    }
   }
  },
  {
   "cell_type": "markdown",
   "source": [
    "Эмпирический же:"
   ],
   "metadata": {
    "collapsed": false
   }
  },
  {
   "cell_type": "code",
   "execution_count": 15,
   "outputs": [
    {
     "data": {
      "text/plain": "0.000723850244567842"
     },
     "execution_count": 15,
     "metadata": {},
     "output_type": "execute_result"
    }
   ],
   "source": [
    "Empirical_Risk[3]"
   ],
   "metadata": {
    "collapsed": false,
    "ExecuteTime": {
     "end_time": "2023-10-23T20:19:55.597764400Z",
     "start_time": "2023-10-23T20:19:55.038168100Z"
    }
   }
  },
  {
   "cell_type": "markdown",
   "source": [
    "5) Оценка $\\frac{n+1}{n} X_{(n)}$ несмещённая, значит, \n",
    "$E(\\theta^* - \\theta)^2 = D\\theta^* = D\\left(\\frac{n+1}{n} X_{(n)}\\right) = \\frac{(n+1)^2}{n^2}DX_n = \\frac{(n+1)^2}{n^2} \\cdot \\frac{n\\cdot\\theta^2}{(n+2)(n+1)^2} = \\frac{\\theta^2}{n(n+2)}$\n",
    "\n",
    "Итого, точный риск:"
   ],
   "metadata": {
    "collapsed": false
   }
  },
  {
   "cell_type": "code",
   "execution_count": 16,
   "outputs": [
    {
     "data": {
      "text/plain": "0.000353921568627451"
     },
     "execution_count": 16,
     "metadata": {},
     "output_type": "execute_result"
    }
   ],
   "source": [
    "theta**2 / (n*(n+2))"
   ],
   "metadata": {
    "collapsed": false,
    "ExecuteTime": {
     "end_time": "2023-10-23T20:19:55.602761900Z",
     "start_time": "2023-10-23T20:19:55.050318100Z"
    }
   }
  },
  {
   "cell_type": "markdown",
   "source": [
    "Эмпирический же:"
   ],
   "metadata": {
    "collapsed": false
   }
  },
  {
   "cell_type": "code",
   "execution_count": 17,
   "outputs": [
    {
     "data": {
      "text/plain": "0.00035676414739145985"
     },
     "execution_count": 17,
     "metadata": {},
     "output_type": "execute_result"
    }
   ],
   "source": [
    "Empirical_Risk[4]"
   ],
   "metadata": {
    "collapsed": false,
    "ExecuteTime": {
     "end_time": "2023-10-23T20:19:55.684761100Z",
     "start_time": "2023-10-23T20:19:55.061763700Z"
    }
   }
  },
  {
   "cell_type": "markdown",
   "source": [
    "Как видно из расчётов, экспериментальные данные практически совпали с теоретическими (видно, знатоки не врут). \n",
    "Самой точной оценкой является $\\frac{n+1}{n}X_{(n)}$, а наименее точной -- $(n+1)\\cdot X_{(1)}$."
   ],
   "metadata": {
    "collapsed": false
   }
  },
  {
   "cell_type": "markdown",
   "source": [
    "Пусть теперь $\\theta$ само приходит из равномерного распределения $U[0, 1]$. При помощи моделирования посчитайте эмпирический риск в байесовском подходе к сравнению оценок и сравните оценки. Сохранится ли порядок оценок по качеству? Почему?"
   ],
   "metadata": {
    "id": "bKk5Ebi7ypOM"
   }
  },
  {
   "cell_type": "markdown",
   "metadata": {
    "id": "ZcFgHGcBXQqZ"
   },
   "source": [
    "Постройте на одном графике разными цветами для всех оценок эмпирическую функцию распределения или гистограмму (аналог эмпирической плотности). Если некоторые оценки сильно отличаются от истинного значения параметра $\\theta$, то исключите их и постройте еще один график со всеми кривыми (или бинами гистограммы). Для избавления от больших значений разности в начале ограничьте масштаб графика. Для наглядности точки можно соединить линиями.\n",
    "\n",
    "Не забудьте подписать оси, а также добавить легенду к графику."
   ]
  },
  {
   "cell_type": "code",
   "execution_count": 18,
   "outputs": [
    {
     "data": {
      "text/plain": "<Figure size 1200x700 with 1 Axes>",
      "image/png": "[encoded data removed]"
     },
     "metadata": {},
     "output_type": "display_data"
    }
   ],
   "source": [
    "plt.figure(figsize=(12, 7))\n",
    "sns.kdeplot(Scores[:, 0], cumulative=True, label=\"$\\\\theta* = 2\\overline{X}$\", linewidth=2)\n",
    "sns.kdeplot(Scores[:, 1], cumulative=True, label=\"$\\\\theta* = \\overline{X} + X_{(n)}/\\,2$\", linewidth=2)\n",
    "sns.kdeplot(Scores[:, 2], cumulative=True, label=\"$\\\\theta* = (n+1)X_{(1)}$\", linewidth=2)\n",
    "sns.kdeplot(Scores[:, 3], cumulative=True, label=\"$\\\\theta* = X_{(1)}+X_{(n)}$\", linewidth=2)\n",
    "sns.kdeplot(Scores[:, 4], cumulative=True, label=\"$\\\\theta* = \\\\dfrac{n+1}{n} X_{(n)}$\", linewidth=2)\n",
    "plt.axvline(x = theta, color = 'blue', label = '$\\\\theta$')\n",
    "\n",
    "plt.legend(loc=\"best\")\n",
    "eps = 0.05\n",
    "plt.xlim(theta - eps, theta + eps)\n",
    "plt.yscale(\"linear\")\n",
    "plt.xlabel(\"Value\")\n",
    "plt.title(\"Empirical distribution functions\")\n",
    "\n",
    "plt.show()"
   ],
   "metadata": {
    "collapsed": false,
    "ExecuteTime": {
     "end_time": "2023-10-23T20:19:57.587741600Z",
     "start_time": "2023-10-23T20:19:55.079763Z"
    }
   }
  },
  {
   "cell_type": "markdown",
   "metadata": {
    "id": "jW4PwqRCZBY6"
   },
   "source": [
    "Какая оценка получилась лучше? Как Вы это поняли?"
   ]
  },
  {
   "cell_type": "markdown",
   "metadata": {
    "id": "Og2Z7ltDZKO4"
   },
   "source": [
    "__Ответ:__ По графику видно, что оценка $\\theta^* = \\frac{n+1}{n}X_{(n)}$ точнее остальных. Это согласуется с вычислением риска для оценок.\n",
    " В свою очередь оценка $\\theta^* = (n+1))X_{(1)}$, как и ожидалась, наименее точна -- её график ядерной плотности буквально перпендикулярен прямой $x=\\theta$.\n"
   ]
  },
  {
   "cell_type": "markdown",
   "metadata": {
    "id": "HhVrMI9BZZtA"
   },
   "source": [
    "Проведите эксперимент для разных значений $\\theta$ (количество графиков равно количеству значений $\\theta$)"
   ]
  },
  {
   "cell_type": "markdown",
   "metadata": {
    "id": "8IwLpxK0Zk56"
   },
   "source": [
    "Сделайте вывод.\n"
   ]
  },
  {
   "cell_type": "markdown",
   "metadata": {
    "id": "2cxjGqgWZn8m"
   },
   "source": [
    "__Вывод:__"
   ]
  },
  {
   "cell_type": "markdown",
   "metadata": {
    "id": "cgjgffh2bS14"
   },
   "source": [
    "### Задача 2"
   ]
  },
  {
   "cell_type": "markdown",
   "source": [
    "Конрийские провинции известны своими пастбищами и скотоводами. Принц Нерсей Пройас замерил, что количество скота подчиняется экспоненциальному распределению с параметром $\\lambda = 1$ (в тысячах голов). Для подсчёта оценки параметра есть семейство оценок $(\\frac{k!}{\\overline{X^k}})^{\\frac{1}{k}}$, каждая следующая из которых требует большего числа операций на вычисление. Стоит ли оно того? Это и нужно выяснить."
   ],
   "metadata": {
    "id": "FMeN1FT14H3Q"
   }
  },
  {
   "cell_type": "markdown",
   "metadata": {
    "id": "sg7tlZ_SdIPE"
   },
   "source": [
    "Сгенерируйте $N$ выборок $X_1, ..., X_N$ из экспоненциального распределения с параметром $\\theta = 1$ для $N = 10^4$."
   ]
  },
  {
   "cell_type": "code",
   "metadata": {
    "id": "7klakcNSbaLr",
    "ExecuteTime": {
     "end_time": "2023-10-23T20:19:57.590743Z",
     "start_time": "2023-10-23T20:19:57.540281Z"
    }
   },
   "source": [
    "np.random.seed(42)"
   ],
   "execution_count": 19,
   "outputs": []
  },
  {
   "cell_type": "markdown",
   "metadata": {
    "id": "1jecLISTdSRn"
   },
   "source": [
    "Для всех выборок посчитайте оценку $(\\frac{k!}{\\overline{X^k}})^{\\frac{1}{k}}$ параметра $\\theta$. Проведите исследование, аналогичное предыдущей задаче, и выясните, при каком k оценка ведет себя лучше (рассмотрите не менее $10$ различных значений $k$). Являются ли данные оценки асимптотически нормальными? Проверьте это теоретически и моделированием (постройте эмпирическую функцию/плотность распределения статистики $\\sqrt{n}(\\theta^* - \\theta)$). Посчитайте дисперсию оценок для разных $k$ и разных размеров выборки. Сходится ли она к теоретической? Что Вы можете сказать о скорости сходимости?"
   ]
  },
  {
   "cell_type": "markdown",
   "metadata": {
    "id": "Z7_s5bSYfhxP"
   },
   "source": [
    "Сделайте вывод.\n"
   ]
  },
  {
   "cell_type": "markdown",
   "metadata": {
    "id": "xLeBcOHCfhxQ"
   },
   "source": [
    "__Вывод:__"
   ]
  },
  {
   "cell_type": "markdown",
   "metadata": {
    "id": "L8gm4HvbfqNp"
   },
   "source": [
    "### Задача 3"
   ]
  },
  {
   "cell_type": "markdown",
   "source": [
    "Кианские провинции до сих пор надеются отделиться от Новой Империи, и поэтому планируют саботировать Ордалию. К их счастью, число урожая в пустынных землях на юге подчиняется распределению Коши, которое отличается существенно от двух распределений из задач 1 и 2. Чем отличается? Как это повлияет на оценивание его параметра сдвига?"
   ],
   "metadata": {
    "id": "kEVktjd247as"
   }
  },
  {
   "cell_type": "markdown",
   "metadata": {
    "id": "tgcNWnCQmI7k"
   },
   "source": [
    "Для распределения Коши моделированием изучите поведение оценки параметра сдвига при помощи среднего и медианы. У какой из этих оценок лучше асимптотические свойства? Как это обосновывается теоретическими свойствами оценок? Моделированием проверьте, какие оценки состоятельны и асимптотически нормальны. Сравните результат с теоретическим."
   ]
  },
  {
   "cell_type": "markdown",
   "metadata": {
    "id": "YcN-EXmhnvc9"
   },
   "source": [
    "Изучите эмпирическое распределение выборочной дисперсии для распределения Коши и проверьте состоятельность оценки."
   ]
  },
  {
   "cell_type": "markdown",
   "source": [
    "**Вывод:**"
   ],
   "metadata": {
    "id": "Fpbkpwvx3JCW"
   }
  },
  {
   "cell_type": "markdown",
   "metadata": {
    "id": "zFc23JoIoHPa"
   },
   "source": [
    "### Задача 4"
   ]
  },
  {
   "cell_type": "markdown",
   "source": [
    "Древние свитки из Сареотской библиотеки хранят знания двух древних волшебников севера --- Гливенко и Кантелли. Два мага-гностика придумали ультимативный способ оценивания распределений количества чего угодно. Их способом пользовались короли севера ещё две тысячи лет назад, во времена Первой Ордалии. Аспект-Император отдал приказ проверить, верны ли их выкладки до сих пор."
   ],
   "metadata": {
    "id": "1ChcWFrB5V_R"
   }
  },
  {
   "cell_type": "markdown",
   "source": [
    "Сгенерируйте $N$ выборок $X_1,\\dots, X_N$ из стандартного нормального распределения для $N = 10^4$."
   ],
   "metadata": {
    "id": "2Qbf729V5VLG"
   }
  },
  {
   "cell_type": "code",
   "source": [
    "np.random.seed(42)"
   ],
   "metadata": {
    "id": "tJg9eqWYuknB",
    "ExecuteTime": {
     "end_time": "2023-10-23T20:19:57.590743Z",
     "start_time": "2023-10-23T20:19:57.547281700Z"
    }
   },
   "execution_count": 20,
   "outputs": []
  },
  {
   "cell_type": "code",
   "execution_count": 21,
   "outputs": [],
   "source": [
    "for i in range(N):\n",
    "    X[i] = sps.norm.rvs(loc=0, scale=1, size=n)"
   ],
   "metadata": {
    "collapsed": false,
    "ExecuteTime": {
     "end_time": "2023-10-23T20:19:58.703159300Z",
     "start_time": "2023-10-23T20:19:57.562739800Z"
    }
   }
  },
  {
   "cell_type": "markdown",
   "metadata": {
    "id": "F5J4QLWbofrW"
   },
   "source": [
    "Для всех $n \\leqslant N$ первой выборки посчитайте эмпирическую функцию распределения.\n"
   ]
  },
  {
   "cell_type": "code",
   "metadata": {
    "id": "THiC9t7rpFFM",
    "ExecuteTime": {
     "end_time": "2023-10-23T20:19:59.385779500Z",
     "start_time": "2023-10-23T20:19:58.700159900Z"
    }
   },
   "source": [
    "plt.hist(X[0], bins=n, cumulative=True, density=True, color='blue')\n",
    "plt.xlabel(\"Value\")\n",
    "plt.ylabel(\"Density\")\n",
    "plt.title(\"Empirical distribution function\")\n",
    "plt.show()"
   ],
   "execution_count": 22,
   "outputs": [
    {
     "data": {
      "text/plain": "<Figure size 640x480 with 1 Axes>",
      "image/png": "[encoded data removed]"
     },
     "metadata": {},
     "output_type": "display_data"
    }
   ]
  },
  {
   "cell_type": "markdown",
   "metadata": {
    "id": "LcibV30wpxI-"
   },
   "source": [
    "Для некоторых n (например, $n \\in \\{10,25,50,100,1000,N\\}$ постройте графики эмпирической функции распределения (отметьте на оси абсцисс точки \"скачков\" кривых, нанеся каждую из \"подвыборок\" на ось абсцисс на каждом соответствующем графике с коэффициентом прозрачности `alpha=0.2`), нанеся на каждый из них истинную функцию распределения (количество графиков равно количеству различных значений $n$).\n",
    "\n",
    "Проверьте выполнение теоремы Гливенко-Кантелли."
   ]
  },
  {
   "cell_type": "code",
   "execution_count": 23,
   "outputs": [
    {
     "data": {
      "text/plain": "<Figure size 300x300 with 1 Axes>",
      "image/png": "[encoded data removed]"
     },
     "metadata": {},
     "output_type": "display_data"
    },
    {
     "data": {
      "text/plain": "<Figure size 300x300 with 1 Axes>",
      "image/png": "[encoded data removed]"
     },
     "metadata": {},
     "output_type": "display_data"
    },
    {
     "data": {
      "text/plain": "<Figure size 300x300 with 1 Axes>",
      "image/png": "[encoded data removed]"
     },
     "metadata": {},
     "output_type": "display_data"
    },
    {
     "data": {
      "text/plain": "<Figure size 300x300 with 1 Axes>",
      "image/png": "[encoded data removed]"
     },
     "metadata": {},
     "output_type": "display_data"
    },
    {
     "data": {
      "text/plain": "<Figure size 300x300 with 1 Axes>",
      "image/png": "[encoded data removed]"
     },
     "metadata": {},
     "output_type": "display_data"
    }
   ],
   "source": [
    "sizes = [10, 25, 50, 100, N]\n",
    "for size in sizes:\n",
    "    plt.figure(figsize=(3, 3))\n",
    "    X = sps.norm.rvs(loc=0, scale=1, size=size)\n",
    "    plt.hist(X, bins=size, cumulative=True, density=True, color='red', alpha=0.2)\n",
    "    plt.xlabel(\"Value\")\n",
    "    plt.ylabel(\"Density\")"
   ],
   "metadata": {
    "collapsed": false,
    "ExecuteTime": {
     "end_time": "2023-10-23T20:20:33.360646100Z",
     "start_time": "2023-10-23T20:19:59.385779500Z"
    }
   }
  },
  {
   "cell_type": "markdown",
   "source": [
    "Видно, что с ростом размера выборок эмпирическая функция распределения приближается к реальной, что согласуется с теоремой Гливенко-Кантелли."
   ],
   "metadata": {
    "collapsed": false
   }
  },
  {
   "cell_type": "markdown",
   "metadata": {
    "id": "nyZXSYm0sozo"
   },
   "source": [
    "Для всех $n ≤ N$ посчитайте значение $D_n = \\displaystyle{\\sup_{x∈R}} | \\hat{F}_n(x)−F(x)|$ для первой выборки. Промоделируйте поведение статистики $\\sqrt{n}D_n$. К чему сходится распределение (на графиках)? К чему сходится в теории?\n"
   ]
  },
  {
   "cell_type": "markdown",
   "source": [
    "**Вывод:**"
   ],
   "metadata": {
    "id": "ZO4Rkftd5PnI"
   }
  },
  {
   "cell_type": "markdown",
   "metadata": {
    "id": "L69owyjlLcVx"
   },
   "source": [
    "### Задача 5"
   ]
  },
  {
   "cell_type": "markdown",
   "source": [
    "Оказывается, нельзя оценивать распределения оценок на глаз простым всматриванием в графики! Поэтому гностики из крепости Нрон изобрели новое заклинание -- QQ-plot. В этой задаче Вам предстоит научиться проверять распределения на принадлежность семействам при помощи этого инструмента."
   ],
   "metadata": {
    "id": "NCeEl4CU5w33"
   }
  },
  {
   "cell_type": "markdown",
   "source": [
    "Сгенерируйте $N_{\\text{samples}}=400$ выборок из равномерного распределения $U_{[0, \\theta]} \\ \\theta=1$ размера $N=40$. Моделированием статистик $\\hat\\theta = 2\\overline{X}, \\ \\theta^* = \\frac{n+1}{n} X_{(n)}$ изучите их распределение. Постройте гистограмму получившихся значений каждой из статистик на одном графике, в качестве параметра `bins` функции `plt.hist` передайте значение ниже, а таккже передайте параметр `alpha=0.6`."
   ],
   "metadata": {
    "id": "H52sDd1c5wEj"
   }
  },
  {
   "cell_type": "code",
   "metadata": {
    "id": "ui-D5NyILtmD",
    "ExecuteTime": {
     "end_time": "2023-10-23T20:20:33.397645900Z",
     "start_time": "2023-10-23T20:20:33.359635100Z"
    }
   },
   "source": [
    "N_samples = 400\n",
    "N = 40\n",
    "\n",
    "bins = [i / 40 + 0.8 for i in range(18)]"
   ],
   "execution_count": 24,
   "outputs": []
  },
  {
   "cell_type": "code",
   "execution_count": 25,
   "outputs": [
    {
     "data": {
      "text/plain": "<Figure size 640x480 with 1 Axes>",
      "image/png": "[encoded data removed]"
     },
     "metadata": {},
     "output_type": "display_data"
    }
   ],
   "source": [
    "X = np.zeros((N_samples, N))\n",
    "for i in range(N_samples):\n",
    "    X[i] = sps.uniform.rvs(loc=0, scale=1, size=N)\n",
    "np.random.seed(47)\n",
    "\n",
    "MEAN = np.mean(X, axis=1)\n",
    "MAX = np.amax(X, axis=1)\n",
    "\n",
    "theta_hat = 2 * MEAN\n",
    "theta_star = (N + 1) * MAX / N\n",
    "\n",
    "plt.hist(theta_star, bins=bins, alpha=0.6, density=True, label=r\"$\\theta^*$\")\n",
    "plt.hist(theta_hat, bins=bins, alpha=0.6, density=True, label=r\"$\\hat{\\theta}$\")\n",
    "\n",
    "plt.title(\"Distribution of $\\hat{\\\\theta}$, $\\\\theta^*$\")\n",
    "\n",
    "plt.legend(loc=\"best\")\n",
    "plt.show()"
   ],
   "metadata": {
    "collapsed": false,
    "ExecuteTime": {
     "end_time": "2023-10-23T20:20:34.147160Z",
     "start_time": "2023-10-23T20:20:33.368648600Z"
    }
   }
  },
  {
   "cell_type": "markdown",
   "metadata": {
    "id": "57v_cI0EMBRJ"
   },
   "source": [
    "Промоделируйте статистики $\\sqrt{n} (\\hat\\theta - \\theta)$ и $1 - n  (\\theta^* - \\theta)$. К чему сходятся их распределения с ростом $N$?"
   ]
  },
  {
   "cell_type": "markdown",
   "metadata": {
    "id": "olortOfHMLUr"
   },
   "source": [
    "На какие распределения похожи получившиеся гистограммы?\n",
    "\n",
    "**Ответ:**"
   ]
  },
  {
   "cell_type": "markdown",
   "metadata": {
    "id": "G_kHPLsaMQsG"
   },
   "source": [
    "Вспомните чему равен коэффициент $\\sigma(\\theta)$ для асимптотиически нормальной оценки $\\hat\\theta = 2\\overline{X}$ для параметра $\\theta$ равномерного распределения в формуле\n",
    "$$\n",
    "\\sqrt{n}\\frac{\\left(\\hat\\theta - \\theta\\right)}{\\sqrt{\\sigma(\\theta)}} \\xrightarrow{d} N(0, 1)\n",
    "$$.\n",
    "\n",
    "**Ответ**:"
   ]
  },
  {
   "cell_type": "markdown",
   "metadata": {
    "id": "MouHaQRCMg6e"
   },
   "source": [
    "Посчитайте статистику\n",
    "$$\\sqrt{n}\\frac{\\left(\\hat\\theta - \\theta\\right)}{\\sqrt{\\sigma(\\theta)}}$$ для каждой выборки. Передайте получившиеся значения в переменную `theta_norm`. И запустите ячейку снизу."
   ]
  },
  {
   "cell_type": "markdown",
   "metadata": {
    "id": "Fic6kEcSM5AI"
   },
   "source": [
    "Для быстрой проверки гипотезы о том, что выборка принадлежит какому-либо распределению часто используется инструмент под названием `QQ-plot` (первые буквы означают `Quantile`). На нем по оси $x$ отложены теоретические значения квантиля, а по оси $y$ -- квантили тестируемой выборки. Очевидно, в идеале такие квантили должны совпадать, поэтому на графике можно увидеть красную линию соответствующую графику функции $y = x$.\n",
    "\n",
    "Сделайте вывод по графику выше. Можно ли утверждать, что выборка взята из нормального распределения?\n",
    "\n",
    "**Ответ:**"
   ]
  },
  {
   "cell_type": "markdown",
   "metadata": {
    "id": "F1BT-7XEM7w9"
   },
   "source": [
    "Вернемся к статистике $\\theta - n  (\\theta^* - \\theta)$. Еще раз взгляните на гистограмму, соотвутствующую этой статистике. Попробуйте построить `QQ-plot` для различных распределений (например можно передать в параметр `dist=sps.uniform` в функцию `sm.qqplot` или любое другое из модуля `scipy.stats`). Какое распределение подходит лучше всего?\n",
    "\n",
    "**Ответ:**"
   ]
  },
  {
   "cell_type": "markdown",
   "metadata": {
    "id": "dfuavx9qaG01"
   },
   "source": [
    "Плохо ли, что оценка $\\theta^*$ не асимптотически нормальна? Сделайте вывод о скорости сходимости оценок. Какая из них «выгоднее»?\n",
    "\n",
    "**Ответ:**"
   ]
  },
  {
   "cell_type": "markdown",
   "source": [
    "# Задача 6"
   ],
   "metadata": {
    "id": "HRSRalCR3DOk"
   }
  },
  {
   "cell_type": "markdown",
   "source": [
    "Эта задача проспонсирована великим магистром гнозиса Шабановым Дмитрием Александровичем. Когда-то (год назад) люди доказали, что сумма i.i.d. величин с конечной дисперсией в пределе имеет достаточно примитивное распределение.\n",
    "\n",
    "Так как мы пока не придумали, как применить этот факт, задача предлагается к решению без веских на то причин."
   ],
   "metadata": {
    "id": "WKhC9mnb6Fbt"
   }
  },
  {
   "cell_type": "markdown",
   "source": [
    "В теорвере была задача, что для любого распределения с дисперсией и для любого $x$ у последовательности $P(\\sum \\xi_i \\leq x)$ есть предел и он равен 0, 1 или 1/2. Проверьте это утверждение моделированием для хотя бы 3 распределений и 5 различных $x$. Выясните, когда предел принимает какое значение. Решите задачу (теоретически) и сформулируйте теорему о том, когда какой предел реализуется.\n",
    "\n",
    "Важно: необходимо отыскать все три случая значения предела.\n",
    "\n",
    "Комментарий: 5 баллов тем, кто найдёт хотя бы 2 из 3 случаев значений предела и опишет их. 10 баллов за все три случая. +5 баллов за теорему с доказательством."
   ],
   "metadata": {
    "id": "MvomZBBOnpth"
   }
  },
  {
   "cell_type": "code",
   "source": [],
   "metadata": {
    "id": "RQnaOj1F3TOR",
    "ExecuteTime": {
     "end_time": "2023-10-23T20:20:34.148173Z",
     "start_time": "2023-10-23T20:20:34.138747400Z"
    }
   },
   "execution_count": 25,
   "outputs": []
  },
  {
   "cell_type": "markdown",
   "metadata": {
    "id": "n-tKrQGGu5EO"
   },
   "source": [
    "**Перед отправкой нажмите `Restart and run all`**. Проверьте, что все работает без ошибок."
   ]
  },
  {
   "cell_type": "code",
   "metadata": {
    "id": "usYNpjSPvCF7",
    "ExecuteTime": {
     "end_time": "2023-10-23T20:20:34.179176Z",
     "start_time": "2023-10-23T20:20:34.144768Z"
    }
   },
   "source": [],
   "execution_count": 25,
   "outputs": []
  }
 ]
}
