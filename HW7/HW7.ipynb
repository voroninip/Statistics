{
 "cells": [
  {
   "cell_type": "code",
   "outputs": [],
   "source": [
    "import warnings\n",
    "warnings.filterwarnings('ignore')\n",
    "import numpy as np\n",
    "import pandas as pd\n",
    "from matplotlib import pyplot as plt\n",
    "import seaborn as sns\n",
    "import scipy.stats as sps\n",
    "import math"
   ],
   "metadata": {
    "collapsed": false,
    "ExecuteTime": {
     "end_time": "2024-04-04T07:39:58.747950Z",
     "start_time": "2024-04-04T07:39:58.742213Z"
    }
   },
   "id": "f4267f116dbdfda4",
   "execution_count": 1037
  },
  {
   "cell_type": "markdown",
   "source": [
    "## Задача №1"
   ],
   "metadata": {
    "collapsed": false
   },
   "id": "537a3427899b9c21"
  },
  {
   "cell_type": "markdown",
   "source": [
    "\n",
    "![Image](1.jpg) "
   ],
   "metadata": {
    "collapsed": false
   },
   "id": "1ca491ebb961b280"
  },
  {
   "cell_type": "markdown",
   "source": [
    "## Задача №2"
   ],
   "metadata": {
    "collapsed": false
   },
   "id": "ffffe7012fe45d00"
  },
  {
   "cell_type": "markdown",
   "source": [
    "![Image](2.png) "
   ],
   "metadata": {
    "collapsed": false
   },
   "id": "eaa6256cdfd33a38"
  },
  {
   "cell_type": "markdown",
   "source": [
    "Можно, например, так: \n",
    "\n",
    "1. Считаем $\\alpha_i -$отклонение от $\\mu$, вызванное влиянием\n",
    "2. Считаем $\\beta_j -$отклонение от $\\mu+\\alpha_i$, вызванное влиянием особенностей $j$-го уровня фактора $A$\n",
    "3. Считаем ошибки $\\varepsilon_{ij} = X_{ij} - \\mu - \\alpha_i - \\beta_j$\n",
    "4. Теперь основное. Для величин $\\varepsilon_{ij}$\n",
    "*  Строим QQ-plot и проверяем, что график близок к линейному\n",
    "*  Применяем тест Колмогорова-Смирнова\n",
    "*  Применяем тест Шапиро-Уилка\n",
    "*  Проверяем, что $skewness \\approx 0$\n",
    "*  Проверяем, что $kurtosis \\approx 0$\n",
    "\n",
    "В зависимости от желаемых точностей делаем вывод о нормальности ошибок"
   ],
   "metadata": {
    "collapsed": false
   },
   "id": "efbf4f333320e99"
  },
  {
   "cell_type": "markdown",
   "source": [
    "## Задача №3"
   ],
   "metadata": {
    "collapsed": false
   },
   "id": "22c815beaf9090d9"
  },
  {
   "cell_type": "code",
   "outputs": [
    {
     "data": {
      "text/plain": "              Name        Drug  Effect\n146  Gospodin Tsay  Permetrine      15\n147  Gospodin Tsay  Permetrine      27\n148  Gospodin Tsay  Permetrine      19\n149  Gospodin Tsay  Permetrine      11\n150  Gospodin Tsay  Permetrine       0",
      "text/html": "<div>\n<style scoped>\n    .dataframe tbody tr th:only-of-type {\n        vertical-align: middle;\n    }\n\n    .dataframe tbody tr th {\n        vertical-align: top;\n    }\n\n    .dataframe thead th {\n        text-align: right;\n    }\n</style>\n<table border=\"1\" class=\"dataframe\">\n  <thead>\n    <tr style=\"text-align: right;\">\n      <th></th>\n      <th>Name</th>\n      <th>Drug</th>\n      <th>Effect</th>\n    </tr>\n  </thead>\n  <tbody>\n    <tr>\n      <th>146</th>\n      <td>Gospodin Tsay</td>\n      <td>Permetrine</td>\n      <td>15</td>\n    </tr>\n    <tr>\n      <th>147</th>\n      <td>Gospodin Tsay</td>\n      <td>Permetrine</td>\n      <td>27</td>\n    </tr>\n    <tr>\n      <th>148</th>\n      <td>Gospodin Tsay</td>\n      <td>Permetrine</td>\n      <td>19</td>\n    </tr>\n    <tr>\n      <th>149</th>\n      <td>Gospodin Tsay</td>\n      <td>Permetrine</td>\n      <td>11</td>\n    </tr>\n    <tr>\n      <th>150</th>\n      <td>Gospodin Tsay</td>\n      <td>Permetrine</td>\n      <td>0</td>\n    </tr>\n  </tbody>\n</table>\n</div>"
     },
     "execution_count": 1038,
     "metadata": {},
     "output_type": "execute_result"
    }
   ],
   "source": [
    "drugs = pd.read_csv('hw7t3.txt', sep=',', header=None)\n",
    "drugs = pd.DataFrame(drugs)\n",
    "drugs[0] = (drugs[0].apply(lambda s: s[4:-1]))\n",
    "drugs[1] = drugs[1].apply(lambda s: s[3:-1])\n",
    "drugs[2] = drugs[2].apply(lambda s: s[:-1])\n",
    "drugs[2][len(drugs)-1] = 0\n",
    "drugs[2] = drugs[2].astype(int)\n",
    "drugs = drugs.drop(columns=3)\n",
    "drugs = drugs.rename(columns={0: 'Name', 1: 'Drug', 2: 'Effect'})\n",
    "drugs.tail()\n",
    "drugs.tail()"
   ],
   "metadata": {
    "collapsed": false,
    "ExecuteTime": {
     "end_time": "2024-04-04T07:39:59.329729Z",
     "start_time": "2024-04-04T07:39:59.314956Z"
    }
   },
   "id": "f67bd8ef506368c4",
   "execution_count": 1038
  },
  {
   "cell_type": "markdown",
   "source": [
    "Названия препаратов и количество их использований"
   ],
   "metadata": {
    "collapsed": false
   },
   "id": "78658113ec8c76ad"
  },
  {
   "cell_type": "code",
   "outputs": [
    {
     "data": {
      "text/plain": "Analgine      30\nIodomarine    29\nMildronate    24\nPermetrine    24\nCodeine       23\nIrunine       21\nName: Drug, dtype: int64"
     },
     "execution_count": 1039,
     "metadata": {},
     "output_type": "execute_result"
    }
   ],
   "source": [
    "drugs['Drug'].value_counts()"
   ],
   "metadata": {
    "collapsed": false,
    "ExecuteTime": {
     "end_time": "2024-04-04T07:39:59.355598Z",
     "start_time": "2024-04-04T07:39:59.349735Z"
    }
   },
   "id": "3e6be44a38cff1f6",
   "execution_count": 1039
  },
  {
   "cell_type": "code",
   "outputs": [
    {
     "data": {
      "text/plain": "array(['Mildronate', 'Codeine', 'Analgine', 'Iodomarine', 'Irunine',\n       'Permetrine'], dtype=object)"
     },
     "execution_count": 1040,
     "metadata": {},
     "output_type": "execute_result"
    }
   ],
   "source": [
    "drugnames = pd.unique(drugs['Drug'])\n",
    "drugnames"
   ],
   "metadata": {
    "collapsed": false,
    "ExecuteTime": {
     "end_time": "2024-04-04T07:39:59.418348Z",
     "start_time": "2024-04-04T07:39:59.412606Z"
    }
   },
   "id": "63af2724015c3b42",
   "execution_count": 1040
  },
  {
   "cell_type": "markdown",
   "source": [
    "Распределение эффекта по лекарствам"
   ],
   "metadata": {
    "collapsed": false
   },
   "id": "d63d0687686213d"
  },
  {
   "cell_type": "code",
   "outputs": [
    {
     "data": {
      "text/plain": "<Figure size 2000x400 with 6 Axes>",
      "image/png": "[encoded data removed]"
     },
     "metadata": {},
     "output_type": "display_data"
    }
   ],
   "source": [
    "fig, axes = plt.subplots(ncols=6, figsize=(20, 4), sharey=True, sharex=True)\n",
    "for _ in range(6):\n",
    "    axes[_].set_title(drugnames[_])\n",
    "    axes[_].hist(drugs[drugs['Drug'] == drugnames[_]]['Effect'])\n",
    "    \n",
    "frame = plt.gca()\n",
    "frame.axes.get_xaxis().set_ticks([]);"
   ],
   "metadata": {
    "collapsed": false,
    "ExecuteTime": {
     "end_time": "2024-04-04T07:40:00.127289Z",
     "start_time": "2024-04-04T07:39:59.528354Z"
    }
   },
   "id": "f26fdfc6cc5b3a9",
   "execution_count": 1041
  },
  {
   "cell_type": "markdown",
   "source": [
    "Из гистограмм сложно судить о нормальности данных"
   ],
   "metadata": {
    "collapsed": false
   },
   "id": "d275d0abef94cde5"
  },
  {
   "cell_type": "code",
   "outputs": [
    {
     "data": {
      "text/plain": "<Figure size 640x480 with 1 Axes>",
      "image/png": "[encoded data removed]"
     },
     "metadata": {},
     "output_type": "display_data"
    }
   ],
   "source": [
    "sns.boxplot(y=\"Drug\", x=\"Effect\", data=drugs, orient=\"h\");"
   ],
   "metadata": {
    "collapsed": false,
    "ExecuteTime": {
     "end_time": "2024-04-04T07:40:00.368601Z",
     "start_time": "2024-04-04T07:40:00.128295Z"
    }
   },
   "id": "ba05e00bf0b3e4d",
   "execution_count": 1042
  },
  {
   "cell_type": "markdown",
   "source": [
    "boxplot распределения эффекта по людям"
   ],
   "metadata": {
    "collapsed": false
   },
   "id": "376a1da20dd813df"
  },
  {
   "cell_type": "code",
   "outputs": [
    {
     "data": {
      "text/plain": "<Figure size 1000x600 with 1 Axes>",
      "image/png": "[encoded data removed]"
     },
     "metadata": {},
     "output_type": "display_data"
    }
   ],
   "source": [
    "plt.figure(figsize=(10, 6))\n",
    "sns.boxplot(y=\"Name\", x=\"Effect\", data=drugs, orient=\"h\");"
   ],
   "metadata": {
    "collapsed": false,
    "ExecuteTime": {
     "end_time": "2024-04-04T07:40:00.620928Z",
     "start_time": "2024-04-04T07:40:00.370607Z"
    }
   },
   "id": "273ca55b0b447ea0",
   "execution_count": 1043
  },
  {
   "cell_type": "markdown",
   "source": [
    "Из графика можно судить, что эффект на Fattakhov выше чем на Tsay"
   ],
   "metadata": {
    "collapsed": false
   },
   "id": "2c0214433f54fc7a"
  },
  {
   "cell_type": "code",
   "outputs": [
    {
     "data": {
      "text/plain": "Name                                      Gospodin Tsay  \\\nDrug                                                      \nAnalgine       11 9 16 16 21 15 23 12 11 17 27 18 13 10   \nCodeine                           10 12 11 10 6 10 11 9   \nIodomarine  23 16 8 5 22 8 19 11 3 11 29 21 18 16 24 15   \nIrunine                    0 14 18 19 14 6 21 9 16 12 3   \nMildronate             30 19 13 27 19 8 15 7 10 16 7 17   \nPermetrine                  17 14 0 11 17 15 27 19 11 0   \n\nName                                         Mr. Fattakhov  \nDrug                                                        \nAnalgine    28 35 31 29 38 23 20 39 19 30 9 27 23 17 11 15  \nCodeine       13 16 10 15 16 13 14 14 10 15 21 12 12 13 22  \nIodomarine           19 20 16 6 15 28 24 16 20 18 12 14 32  \nIrunine                      18 20 19 29 27 13 21 16 11 17  \nMildronate              0 28 24 32 30 28 26 14 21 28 41 29  \nPermetrine         18 26 23 19 9 23 25 23 35 30 5 26 37 29  ",
      "text/html": "<div>\n<style scoped>\n    .dataframe tbody tr th:only-of-type {\n        vertical-align: middle;\n    }\n\n    .dataframe tbody tr th {\n        vertical-align: top;\n    }\n\n    .dataframe thead th {\n        text-align: right;\n    }\n</style>\n<table border=\"1\" class=\"dataframe\">\n  <thead>\n    <tr style=\"text-align: right;\">\n      <th>Name</th>\n      <th>Gospodin Tsay</th>\n      <th>Mr. Fattakhov</th>\n    </tr>\n    <tr>\n      <th>Drug</th>\n      <th></th>\n      <th></th>\n    </tr>\n  </thead>\n  <tbody>\n    <tr>\n      <th>Analgine</th>\n      <td>11 9 16 16 21 15 23 12 11 17 27 18 13 10</td>\n      <td>28 35 31 29 38 23 20 39 19 30 9 27 23 17 11 15</td>\n    </tr>\n    <tr>\n      <th>Codeine</th>\n      <td>10 12 11 10 6 10 11 9</td>\n      <td>13 16 10 15 16 13 14 14 10 15 21 12 12 13 22</td>\n    </tr>\n    <tr>\n      <th>Iodomarine</th>\n      <td>23 16 8 5 22 8 19 11 3 11 29 21 18 16 24 15</td>\n      <td>19 20 16 6 15 28 24 16 20 18 12 14 32</td>\n    </tr>\n    <tr>\n      <th>Irunine</th>\n      <td>0 14 18 19 14 6 21 9 16 12 3</td>\n      <td>18 20 19 29 27 13 21 16 11 17</td>\n    </tr>\n    <tr>\n      <th>Mildronate</th>\n      <td>30 19 13 27 19 8 15 7 10 16 7 17</td>\n      <td>0 28 24 32 30 28 26 14 21 28 41 29</td>\n    </tr>\n    <tr>\n      <th>Permetrine</th>\n      <td>17 14 0 11 17 15 27 19 11 0</td>\n      <td>18 26 23 19 9 23 25 23 35 30 5 26 37 29</td>\n    </tr>\n  </tbody>\n</table>\n</div>"
     },
     "execution_count": 1044,
     "metadata": {},
     "output_type": "execute_result"
    }
   ],
   "source": [
    "drugs.pivot_table(\n",
    "    index=\"Drug\", \n",
    "    columns=\"Name\", \n",
    "    values=\"Effect\", \n",
    "    aggfunc=lambda x: \" \".join(map(str, x))\n",
    ")"
   ],
   "metadata": {
    "collapsed": false,
    "ExecuteTime": {
     "end_time": "2024-04-04T07:40:00.642049Z",
     "start_time": "2024-04-04T07:40:00.622935Z"
    }
   },
   "id": "9e0ecc12ca7692d1",
   "execution_count": 1044
  },
  {
   "cell_type": "markdown",
   "source": [
    "Перейдём к средним (по выборке в каждой ячейке)"
   ],
   "metadata": {
    "collapsed": false
   },
   "id": "eb27c994e2e47f0b"
  },
  {
   "cell_type": "code",
   "outputs": [
    {
     "data": {
      "text/plain": "Drug            Analgine  Codeine  Iodomarine  Irunine  Mildronate  Permetrine\nName                                                                          \nGospodin Tsay  15.642857    9.875   15.562500     12.0   15.666667   13.100000\nMr. Fattakhov  24.625000   14.400   18.461538     19.1   25.083333   23.428571",
      "text/html": "<div>\n<style scoped>\n    .dataframe tbody tr th:only-of-type {\n        vertical-align: middle;\n    }\n\n    .dataframe tbody tr th {\n        vertical-align: top;\n    }\n\n    .dataframe thead th {\n        text-align: right;\n    }\n</style>\n<table border=\"1\" class=\"dataframe\">\n  <thead>\n    <tr style=\"text-align: right;\">\n      <th>Drug</th>\n      <th>Analgine</th>\n      <th>Codeine</th>\n      <th>Iodomarine</th>\n      <th>Irunine</th>\n      <th>Mildronate</th>\n      <th>Permetrine</th>\n    </tr>\n    <tr>\n      <th>Name</th>\n      <th></th>\n      <th></th>\n      <th></th>\n      <th></th>\n      <th></th>\n      <th></th>\n    </tr>\n  </thead>\n  <tbody>\n    <tr>\n      <th>Gospodin Tsay</th>\n      <td>15.642857</td>\n      <td>9.875</td>\n      <td>15.562500</td>\n      <td>12.0</td>\n      <td>15.666667</td>\n      <td>13.100000</td>\n    </tr>\n    <tr>\n      <th>Mr. Fattakhov</th>\n      <td>24.625000</td>\n      <td>14.400</td>\n      <td>18.461538</td>\n      <td>19.1</td>\n      <td>25.083333</td>\n      <td>23.428571</td>\n    </tr>\n  </tbody>\n</table>\n</div>"
     },
     "execution_count": 1045,
     "metadata": {},
     "output_type": "execute_result"
    }
   ],
   "source": [
    "pivot = drugs.pivot_table(index=\"Name\", columns=\"Drug\", values=\"Effect\", aggfunc=lambda x: x.mean())\n",
    "pivot"
   ],
   "metadata": {
    "collapsed": false,
    "ExecuteTime": {
     "end_time": "2024-04-04T07:40:00.669971Z",
     "start_time": "2024-04-04T07:40:00.645061Z"
    }
   },
   "id": "63664532ec78c481",
   "execution_count": 1045
  },
  {
   "cell_type": "markdown",
   "source": [
    "Критерий Фридмана (мешающий фактор человека затираем):"
   ],
   "metadata": {
    "collapsed": false
   },
   "id": "97daf58f097731c1"
  },
  {
   "cell_type": "code",
   "outputs": [
    {
     "data": {
      "text/plain": "FriedmanchisquareResult(statistic=9.142857142857139, pvalue=0.10349995148362036)"
     },
     "execution_count": 1046,
     "metadata": {},
     "output_type": "execute_result"
    }
   ],
   "source": [
    "sps.friedmanchisquare(*np.array(pivot).T)"
   ],
   "metadata": {
    "collapsed": false,
    "ExecuteTime": {
     "end_time": "2024-04-04T07:40:00.679224Z",
     "start_time": "2024-04-04T07:40:00.671978Z"
    }
   },
   "id": "ffed33e46908432a",
   "execution_count": 1046
  },
  {
   "cell_type": "markdown",
   "source": [
    "Делаем вывод, что есть эффект от лекарства (какого-то)"
   ],
   "metadata": {
    "collapsed": false
   },
   "id": "dc0f6e3af18de7c8"
  },
  {
   "cell_type": "markdown",
   "source": [
    "Проверим однофакторным критерием Краскела-Уоллиса значимость фактора человека"
   ],
   "metadata": {
    "collapsed": false
   },
   "id": "3a3bfee1cee4d8d1"
  },
  {
   "cell_type": "code",
   "outputs": [
    {
     "data": {
      "text/plain": "KruskalResult(statistic=1821.0703577729241, pvalue=1.1608349552803221e-284)"
     },
     "execution_count": 1047,
     "metadata": {},
     "output_type": "execute_result"
    }
   ],
   "source": [
    "sps.kruskal(*[drugs[drugs['Name'] == name]['Effect'].values for name in drugs['Name']])"
   ],
   "metadata": {
    "collapsed": false,
    "ExecuteTime": {
     "end_time": "2024-04-04T07:40:00.751948Z",
     "start_time": "2024-04-04T07:40:00.682232Z"
    }
   },
   "id": "507936505b59c2f6",
   "execution_count": 1047
  },
  {
   "cell_type": "markdown",
   "source": [
    "Делаем вывод, что эффекта фактора человека нет."
   ],
   "metadata": {
    "collapsed": false
   },
   "id": "4f521ffec8a6ed0e"
  },
  {
   "cell_type": "markdown",
   "source": [
    "### Перейдём к проверке попарных упорядоченных равенств против альтернатив(>) с помощью критерия LSD Фишера"
   ],
   "metadata": {
    "collapsed": false
   },
   "id": "1ae2234888d540f7"
  },
  {
   "cell_type": "markdown",
   "source": [
    "Проверим нормальность:"
   ],
   "metadata": {
    "collapsed": false
   },
   "id": "6cbac6ccfcc0b6c0"
  },
  {
   "cell_type": "code",
   "outputs": [
    {
     "name": "stdout",
     "output_type": "stream",
     "text": [
      "NormaltestResult(statistic=0.25642587486881896, pvalue=0.8796660453693268)\n",
      "NormaltestResult(statistic=5.733909500485668, pvalue=0.05687185213936877)\n",
      "NormaltestResult(statistic=2.4306378623425253, pvalue=0.2966153993102969)\n",
      "NormaltestResult(statistic=0.02104811221448163, pvalue=0.9895311280146443)\n",
      "NormaltestResult(statistic=0.8131901768883695, pvalue=0.6659137719009048)\n",
      "NormaltestResult(statistic=0.41539878466937874, pvalue=0.812451229074203)\n"
     ]
    }
   ],
   "source": [
    "for sample in [drugs[drugs['Drug'] == drug]['Effect'].values for drug in drugnames]:\n",
    "    print(sps.normaltest(sample))"
   ],
   "metadata": {
    "collapsed": false,
    "ExecuteTime": {
     "end_time": "2024-04-04T07:40:00.773812Z",
     "start_time": "2024-04-04T07:40:00.752959Z"
    }
   },
   "id": "b2414e17d3e64661",
   "execution_count": 1048
  },
  {
   "cell_type": "markdown",
   "source": [
    "Проверим равенство дисперсий"
   ],
   "metadata": {
    "collapsed": false
   },
   "id": "8ccb76ff710da7c3"
  },
  {
   "cell_type": "markdown",
   "source": [
    "Критерий Бартлетта"
   ],
   "metadata": {
    "collapsed": false
   },
   "id": "1660363ca9b848b3"
  },
  {
   "cell_type": "code",
   "outputs": [
    {
     "data": {
      "text/plain": "BartlettResult(statistic=23.207913445513892, pvalue=0.00030802770066539354)"
     },
     "execution_count": 1049,
     "metadata": {},
     "output_type": "execute_result"
    }
   ],
   "source": [
    "sps.bartlett(*[drugs[drugs['Drug'] == drug]['Effect'].values for drug in drugnames])"
   ],
   "metadata": {
    "collapsed": false,
    "ExecuteTime": {
     "end_time": "2024-04-04T07:40:00.784333Z",
     "start_time": "2024-04-04T07:40:00.774819Z"
    }
   },
   "id": "bbb1a9ccfa7a7015",
   "execution_count": 1049
  },
  {
   "cell_type": "markdown",
   "source": [
    "Критерий Левина"
   ],
   "metadata": {
    "collapsed": false
   },
   "id": "21b528448efd5e41"
  },
  {
   "cell_type": "code",
   "outputs": [
    {
     "data": {
      "text/plain": "LeveneResult(statistic=4.7462564214200755, pvalue=0.0004793151628536492)"
     },
     "execution_count": 1050,
     "metadata": {},
     "output_type": "execute_result"
    }
   ],
   "source": [
    "sps.levene(*[drugs[drugs['Drug'] == drug]['Effect'].values for drug in drugnames], center='mean')"
   ],
   "metadata": {
    "collapsed": false,
    "ExecuteTime": {
     "end_time": "2024-04-04T07:40:00.794921Z",
     "start_time": "2024-04-04T07:40:00.785343Z"
    }
   },
   "id": "63d9d862a0a2fdd6",
   "execution_count": 1050
  },
  {
   "cell_type": "markdown",
   "source": [
    "Критерий Флайнера-Киллиана"
   ],
   "metadata": {
    "collapsed": false
   },
   "id": "e4c1d9a30d9f46f0"
  },
  {
   "cell_type": "code",
   "outputs": [
    {
     "data": {
      "text/plain": "FlignerResult(statistic=19.920386574297478, pvalue=0.0012934567498142171)"
     },
     "execution_count": 1051,
     "metadata": {},
     "output_type": "execute_result"
    }
   ],
   "source": [
    "sps.fligner(*[drugs[drugs['Drug'] == drug]['Effect'].values for drug in drugnames])"
   ],
   "metadata": {
    "collapsed": false,
    "ExecuteTime": {
     "end_time": "2024-04-04T07:40:00.807275Z",
     "start_time": "2024-04-04T07:40:00.796930Z"
    }
   },
   "id": "741d1147a0f71967",
   "execution_count": 1051
  },
  {
   "cell_type": "markdown",
   "source": [
    "Каждый из критериев отклонил гипотезу равенства дисперсий"
   ],
   "metadata": {
    "collapsed": false
   },
   "id": "8ce58ae948ef371"
  },
  {
   "cell_type": "markdown",
   "source": [
    "Видим, что объёмы выборок разные, хотя и несильно отличаются, так что можем считать их равными"
   ],
   "metadata": {
    "collapsed": false
   },
   "id": "33221ea235a29a79"
  },
  {
   "cell_type": "code",
   "outputs": [
    {
     "name": "stdout",
     "output_type": "stream",
     "text": [
      "24\n",
      "23\n",
      "30\n",
      "29\n",
      "21\n",
      "24\n"
     ]
    }
   ],
   "source": [
    "for dr in [drugs[drugs['Drug'] == drug]['Effect'].values for drug in drugnames]:\n",
    "    print(len(dr))"
   ],
   "metadata": {
    "collapsed": false,
    "ExecuteTime": {
     "end_time": "2024-04-04T07:40:00.816209Z",
     "start_time": "2024-04-04T07:40:00.808281Z"
    }
   },
   "id": "b204ba9d0b5d4d13",
   "execution_count": 1052
  },
  {
   "cell_type": "markdown",
   "source": [
    "Применить однофакторный критерий Фишера"
   ],
   "metadata": {
    "collapsed": false
   },
   "id": "13f29da30445b232"
  },
  {
   "cell_type": "code",
   "outputs": [
    {
     "data": {
      "text/plain": "F_onewayResult(statistic=3.4492042716869196, pvalue=0.005643006932348378)"
     },
     "execution_count": 1053,
     "metadata": {},
     "output_type": "execute_result"
    }
   ],
   "source": [
    "sps.f_oneway(*[drugs[drugs['Drug'] == drug]['Effect'].values for drug in drugnames])"
   ],
   "metadata": {
    "collapsed": false,
    "ExecuteTime": {
     "end_time": "2024-04-04T07:40:00.828497Z",
     "start_time": "2024-04-04T07:40:00.819214Z"
    }
   },
   "id": "ad4bfa81cc81131e",
   "execution_count": 1053
  },
  {
   "cell_type": "markdown",
   "source": [
    "Отклоняем гипотезу об отсутствии различий лекарств"
   ],
   "metadata": {
    "collapsed": false
   },
   "id": "e86ffffa6f520bce"
  },
  {
   "cell_type": "markdown",
   "source": [
    "Критерий Краскела-Уоллиса"
   ],
   "metadata": {
    "collapsed": false
   },
   "id": "111549e537218b10"
  },
  {
   "cell_type": "code",
   "outputs": [
    {
     "data": {
      "text/plain": "KruskalResult(statistic=16.819139105874562, pvalue=0.004855889586154284)"
     },
     "execution_count": 1054,
     "metadata": {},
     "output_type": "execute_result"
    }
   ],
   "source": [
    "sps.kruskal(*[drugs[drugs['Drug'] == drug]['Effect'].values for drug in drugnames])"
   ],
   "metadata": {
    "collapsed": false,
    "ExecuteTime": {
     "end_time": "2024-04-04T07:40:00.910862Z",
     "start_time": "2024-04-04T07:40:00.900503Z"
    }
   },
   "id": "53ee4412cadcb8cf",
   "execution_count": 1054
  },
  {
   "cell_type": "markdown",
   "source": [
    "Отклоняем гипотезу об отсутствии сдвига"
   ],
   "metadata": {
    "collapsed": false
   },
   "id": "f15776f76d64f4d6"
  },
  {
   "cell_type": "markdown",
   "source": [
    "### LSD Фишера"
   ],
   "metadata": {
    "collapsed": false
   },
   "id": "53aea3c2a9844c65"
  },
  {
   "cell_type": "code",
   "outputs": [
    {
     "name": "stdout",
     "output_type": "stream",
     "text": [
      "Codeine with Irunine: Diff = 2.554865424430643, LSD = 3.3090218971328214\n",
      "Irunine with Iodomarine: Diff = 1.4811165845648606, LSD = 4.025103388302702\n",
      "Iodomarine with Permetrine: Diff = 2.262931034482758, LSD = 4.611116495383917\n",
      "Permetrine with Mildronate: Diff = 1.25, LSD = 5.63761139677588\n"
     ]
    }
   ],
   "source": [
    "dr_names_sorted = drugs.groupby('Drug')['Effect'].mean().sort_values().index\n",
    "samples = [drugs[drugs['Drug'] == drug]['Effect'].values for drug in dr_names_sorted]\n",
    "\n",
    "alpha = 0.05\n",
    "k = 5\n",
    "for j in range(k-1):\n",
    "    nj = len(samples[j])\n",
    "    njj = len(samples[j + 1])\n",
    "    LSD = sps.t.ppf(\n",
    "        1 - alpha * 0.5, \n",
    "        nj + njj - 2\n",
    "    ) * math.sqrt(\n",
    "        (nj + njj) / (nj * njj)\n",
    "    ) * math.sqrt(\n",
    "        (\n",
    "                (nj - 1) * samples[j].var(ddof=False) + (njj - 1) * samples[j + 1].var(ddof=False)\n",
    "        ) / (nj + njj - 2)\n",
    "    )\n",
    "    print(\"{} with {}: Diff = {}, LSD = {}\".format(dr_names_sorted[j], dr_names_sorted[j + 1],\n",
    "                                                   abs(samples[j].mean() - samples[j + 1].mean()), LSD))"
   ],
   "metadata": {
    "collapsed": false,
    "ExecuteTime": {
     "end_time": "2024-04-04T07:40:01.052131Z",
     "start_time": "2024-04-04T07:40:01.039871Z"
    }
   },
   "id": "3eb23e87f44a2c4a",
   "execution_count": 1055
  },
  {
   "cell_type": "markdown",
   "source": [
    "Критерий Шеффе для попарных сравнений"
   ],
   "metadata": {
    "collapsed": false
   },
   "id": "5af5e93eed393fa7"
  },
  {
   "cell_type": "code",
   "outputs": [
    {
     "name": "stdout",
     "output_type": "stream",
     "text": [
      "Квантиль распределения Фишера: 2.2744909986071264\n",
      "\n",
      "sheffe for Codeine and Irunine is 0.2198548069839077\n",
      "sheffe for Codeine and Iodomarine is 0.6411009006830637\n",
      "sheffe for Codeine and Permetrine is 1.4298085810540453\n",
      "sheffe for Codeine and Mildronate is 2.053598406742723\n",
      "sheffe for Codeine and Analgine is 2.311711527635855\n",
      "sheffe for Irunine and Iodomarine is 0.08198440168778875\n",
      "sheffe for Irunine and Permetrine is 0.4817327847129326\n",
      "sheffe for Irunine and Mildronate is 0.8570947488958734\n",
      "sheffe for Irunine and Analgine is 0.9675379426235532\n",
      "sheffe for Iodomarine and Permetrine is 0.2063390660708223\n",
      "sheffe for Iodomarine and Mildronate is 0.4972537547787464\n",
      "sheffe for Iodomarine and Analgine is 0.5770543187899176\n",
      "sheffe for Permetrine and Mildronate is 0.05753163619970142\n",
      "sheffe for Permetrine and Analgine is 0.0700294963301946\n",
      "sheffe for Mildronate and Analgine is 0.00013921235426100703\n"
     ]
    }
   ],
   "source": [
    "def sheffe(c, samples):\n",
    "    ns = np.array([len(x) for x in samples])\n",
    "    k = len(samples)\n",
    "    n = np.array(ns).sum()\n",
    "    sin = 1. / (n - k) * (ns * np.array([x.var() for x in samples])).sum()\n",
    "    S = (c * np.array([x.mean() for x in samples])).sum() ** 2 / ((k - 1) * sin * (c ** 2 / ns).sum())\n",
    "    return S\n",
    "\n",
    "u = sps.f.ppf(1-alpha, len(drugnames) - 1, len(drugs[\"Drug\"].to_list()) - 1)\n",
    "\n",
    "print(\"Квантиль распределения Фишера: {}\\n\".format(u))\n",
    "\n",
    "for i in range(6):\n",
    "    for j in range(i+1, 6):\n",
    "        c = np.zeros(6)\n",
    "        c[i] = 1\n",
    "        c[j] = -1\n",
    "        print(\"sheffe for {} and {} is {}\".format(dr_names_sorted[i],\n",
    "                                                  dr_names_sorted[j], sheffe(c, samples)))"
   ],
   "metadata": {
    "collapsed": false,
    "ExecuteTime": {
     "end_time": "2024-04-04T07:40:01.513484Z",
     "start_time": "2024-04-04T07:40:01.501139Z"
    }
   },
   "id": "79e8da8f14ea726c",
   "execution_count": 1056
  },
  {
   "cell_type": "markdown",
   "source": [
    "## Задача №4"
   ],
   "metadata": {
    "collapsed": false
   },
   "id": "50293aff8aae40b5"
  },
  {
   "cell_type": "code",
   "outputs": [
    {
     "data": {
      "text/plain": "     A    B    Effect\n0  0.0  0.0  1.038829\n1  0.0  0.0  2.842808\n2  0.0  0.0  0.890729\n3  0.0  0.0  2.176776\n4  0.0  0.0  0.915229",
      "text/html": "<div>\n<style scoped>\n    .dataframe tbody tr th:only-of-type {\n        vertical-align: middle;\n    }\n\n    .dataframe tbody tr th {\n        vertical-align: top;\n    }\n\n    .dataframe thead th {\n        text-align: right;\n    }\n</style>\n<table border=\"1\" class=\"dataframe\">\n  <thead>\n    <tr style=\"text-align: right;\">\n      <th></th>\n      <th>A</th>\n      <th>B</th>\n      <th>Effect</th>\n    </tr>\n  </thead>\n  <tbody>\n    <tr>\n      <th>0</th>\n      <td>0.0</td>\n      <td>0.0</td>\n      <td>1.038829</td>\n    </tr>\n    <tr>\n      <th>1</th>\n      <td>0.0</td>\n      <td>0.0</td>\n      <td>2.842808</td>\n    </tr>\n    <tr>\n      <th>2</th>\n      <td>0.0</td>\n      <td>0.0</td>\n      <td>0.890729</td>\n    </tr>\n    <tr>\n      <th>3</th>\n      <td>0.0</td>\n      <td>0.0</td>\n      <td>2.176776</td>\n    </tr>\n    <tr>\n      <th>4</th>\n      <td>0.0</td>\n      <td>0.0</td>\n      <td>0.915229</td>\n    </tr>\n  </tbody>\n</table>\n</div>"
     },
     "execution_count": 1057,
     "metadata": {},
     "output_type": "execute_result"
    }
   ],
   "source": [
    "data = pd.DataFrame(data=np.load('hw7t4.npy'), columns=[\"A\", \"B\", \"Effect\"])\n",
    "data.head(5)"
   ],
   "metadata": {
    "collapsed": true,
    "ExecuteTime": {
     "end_time": "2024-04-04T07:40:01.591723Z",
     "start_time": "2024-04-04T07:40:01.578492Z"
    }
   },
   "id": "initial_id",
   "execution_count": 1057
  },
  {
   "cell_type": "code",
   "outputs": [
    {
     "data": {
      "text/plain": "     A  B    Effect\n0    0  0  1.038829\n1    0  0  2.842808\n2    0  0  0.890729\n3    0  0  2.176776\n4    0  0  0.915229\n..  .. ..       ...\n245  4  4  2.135321\n246  4  4  2.309004\n247  4  4  1.431228\n248  4  4  3.223043\n249  4  4  2.649943\n\n[250 rows x 3 columns]",
      "text/html": "<div>\n<style scoped>\n    .dataframe tbody tr th:only-of-type {\n        vertical-align: middle;\n    }\n\n    .dataframe tbody tr th {\n        vertical-align: top;\n    }\n\n    .dataframe thead th {\n        text-align: right;\n    }\n</style>\n<table border=\"1\" class=\"dataframe\">\n  <thead>\n    <tr style=\"text-align: right;\">\n      <th></th>\n      <th>A</th>\n      <th>B</th>\n      <th>Effect</th>\n    </tr>\n  </thead>\n  <tbody>\n    <tr>\n      <th>0</th>\n      <td>0</td>\n      <td>0</td>\n      <td>1.038829</td>\n    </tr>\n    <tr>\n      <th>1</th>\n      <td>0</td>\n      <td>0</td>\n      <td>2.842808</td>\n    </tr>\n    <tr>\n      <th>2</th>\n      <td>0</td>\n      <td>0</td>\n      <td>0.890729</td>\n    </tr>\n    <tr>\n      <th>3</th>\n      <td>0</td>\n      <td>0</td>\n      <td>2.176776</td>\n    </tr>\n    <tr>\n      <th>4</th>\n      <td>0</td>\n      <td>0</td>\n      <td>0.915229</td>\n    </tr>\n    <tr>\n      <th>...</th>\n      <td>...</td>\n      <td>...</td>\n      <td>...</td>\n    </tr>\n    <tr>\n      <th>245</th>\n      <td>4</td>\n      <td>4</td>\n      <td>2.135321</td>\n    </tr>\n    <tr>\n      <th>246</th>\n      <td>4</td>\n      <td>4</td>\n      <td>2.309004</td>\n    </tr>\n    <tr>\n      <th>247</th>\n      <td>4</td>\n      <td>4</td>\n      <td>1.431228</td>\n    </tr>\n    <tr>\n      <th>248</th>\n      <td>4</td>\n      <td>4</td>\n      <td>3.223043</td>\n    </tr>\n    <tr>\n      <th>249</th>\n      <td>4</td>\n      <td>4</td>\n      <td>2.649943</td>\n    </tr>\n  </tbody>\n</table>\n<p>250 rows × 3 columns</p>\n</div>"
     },
     "execution_count": 1058,
     "metadata": {},
     "output_type": "execute_result"
    }
   ],
   "source": [
    "data['A'] = data['A'].astype(int)\n",
    "data['B'] = data['B'].astype(int)\n",
    "data"
   ],
   "metadata": {
    "collapsed": false,
    "ExecuteTime": {
     "end_time": "2024-04-04T07:40:01.756429Z",
     "start_time": "2024-04-04T07:40:01.743732Z"
    }
   },
   "id": "d528133012c3530",
   "execution_count": 1058
  },
  {
   "cell_type": "markdown",
   "source": [
    "Количество записей уровней каждого из факторов"
   ],
   "metadata": {
    "collapsed": false
   },
   "id": "563635fd2632528d"
  },
  {
   "cell_type": "code",
   "outputs": [
    {
     "data": {
      "text/plain": "0    50\n1    50\n2    50\n3    50\n4    50\nName: A, dtype: int64"
     },
     "execution_count": 1059,
     "metadata": {},
     "output_type": "execute_result"
    }
   ],
   "source": [
    "data['A'].value_counts()"
   ],
   "metadata": {
    "collapsed": false,
    "ExecuteTime": {
     "end_time": "2024-04-04T07:40:01.809446Z",
     "start_time": "2024-04-04T07:40:01.803438Z"
    }
   },
   "id": "9746861263c28055",
   "execution_count": 1059
  },
  {
   "cell_type": "code",
   "outputs": [
    {
     "data": {
      "text/plain": "0    50\n1    50\n2    50\n3    50\n4    50\nName: B, dtype: int64"
     },
     "execution_count": 1060,
     "metadata": {},
     "output_type": "execute_result"
    }
   ],
   "source": [
    "data['B'].value_counts()"
   ],
   "metadata": {
    "collapsed": false,
    "ExecuteTime": {
     "end_time": "2024-04-04T07:40:01.893664Z",
     "start_time": "2024-04-04T07:40:01.886454Z"
    }
   },
   "id": "232ad98a3702b093",
   "execution_count": 1060
  },
  {
   "cell_type": "markdown",
   "source": [
    "Распределение эффекта по уровням фактора A"
   ],
   "metadata": {
    "collapsed": false
   },
   "id": "a4a7ff1c6f1c9f90"
  },
  {
   "cell_type": "code",
   "outputs": [
    {
     "data": {
      "text/plain": "<Figure size 2000x400 with 5 Axes>",
      "image/png": "[encoded data removed]"
     },
     "metadata": {},
     "output_type": "display_data"
    }
   ],
   "source": [
    "fig, axes = plt.subplots(ncols = 5, figsize = (20, 4), sharey = True, sharex=True)\n",
    "for _ in range(5):\n",
    "    axes[_].set_title('A' + str(_))\n",
    "    axes[_].hist(data[data['A'] == _]['Effect'])"
   ],
   "metadata": {
    "collapsed": false,
    "ExecuteTime": {
     "end_time": "2024-04-04T07:40:03.041145Z",
     "start_time": "2024-04-04T07:40:01.992670Z"
    }
   },
   "id": "8cf3ba28e41301e3",
   "execution_count": 1061
  },
  {
   "cell_type": "markdown",
   "source": [
    "Распределение эффекта по уровням фактора B"
   ],
   "metadata": {
    "collapsed": false
   },
   "id": "6a3a7a1c80bc0a8b"
  },
  {
   "cell_type": "code",
   "outputs": [
    {
     "data": {
      "text/plain": "<Figure size 2000x400 with 5 Axes>",
      "image/png": "[encoded data removed]"
     },
     "metadata": {},
     "output_type": "display_data"
    }
   ],
   "source": [
    "fig, axes = plt.subplots(ncols = 5, figsize = (20, 4), sharey = True, sharex=True)\n",
    "for _ in range(5):\n",
    "    axes[_].set_title('B' + str(_))\n",
    "    axes[_].hist(data[data['B'] == _]['Effect'])"
   ],
   "metadata": {
    "collapsed": false,
    "ExecuteTime": {
     "end_time": "2024-04-04T07:40:04.115964Z",
     "start_time": "2024-04-04T07:40:03.043151Z"
    }
   },
   "id": "ba69713d948a86ae",
   "execution_count": 1062
  },
  {
   "cell_type": "markdown",
   "source": [
    "Из гистограмм делаем выбор в пользу нормальности данных"
   ],
   "metadata": {
    "collapsed": false
   },
   "id": "faba7c49e62c9964"
  },
  {
   "cell_type": "code",
   "outputs": [
    {
     "data": {
      "text/plain": "<Figure size 640x480 with 1 Axes>",
      "image/png": "[encoded data removed]"
     },
     "metadata": {},
     "output_type": "display_data"
    }
   ],
   "source": [
    "sns.boxplot(y=\"A\", x=\"Effect\", data=data, orient=\"h\")\n",
    "plt.ylabel(\"A factor\");"
   ],
   "metadata": {
    "collapsed": false,
    "ExecuteTime": {
     "end_time": "2024-04-04T07:40:04.321618Z",
     "start_time": "2024-04-04T07:40:04.116973Z"
    }
   },
   "id": "8d37756da256fe19",
   "execution_count": 1063
  },
  {
   "cell_type": "markdown",
   "source": [
    "Эффекты разных уровней фактора A слабо отличаются"
   ],
   "metadata": {
    "collapsed": false
   },
   "id": "35efd59596333839"
  },
  {
   "cell_type": "code",
   "outputs": [
    {
     "data": {
      "text/plain": "<Figure size 640x480 with 1 Axes>",
      "image/png": "[encoded data removed]"
     },
     "metadata": {},
     "output_type": "display_data"
    }
   ],
   "source": [
    "import seaborn as sns\n",
    "sns.boxplot(y=\"B\", x=\"Effect\", data=data, orient=\"h\")\n",
    "plt.ylabel(\"B factor\");"
   ],
   "metadata": {
    "collapsed": false,
    "ExecuteTime": {
     "end_time": "2024-04-04T07:40:04.522159Z",
     "start_time": "2024-04-04T07:40:04.322628Z"
    }
   },
   "id": "9ee9930598eb8a29",
   "execution_count": 1064
  },
  {
   "cell_type": "markdown",
   "source": [
    "Но вот с фактором B видим, что эффект уровня 1 прочих попарно приблизительно равных"
   ],
   "metadata": {
    "collapsed": false
   },
   "id": "88224f70fa17addd"
  },
  {
   "cell_type": "code",
   "outputs": [
    {
     "data": {
      "text/plain": "B                                                  B0  \\\nA                                                       \nA0  1.0388293792711492 2.8428084577191624 0.890729...   \nA1  0.38863690103493737 1.6524412537823012 2.43300...   \nA2  2.674969572173219 8.41334986129022 2.224616130...   \nA3  3.904357174035316 -0.274250003978498 1.3171385...   \nA4  -0.3537804762356464 -0.44578194947196786 1.105...   \n\nB                                                  B1  \\\nA                                                       \nA0  5.492530522149031 3.755297379990835 5.05660558...   \nA1  4.063548439198704 2.7601880579798737 4.5113833...   \nA2  4.0429182223038636 2.373404245077144 1.9704757...   \nA3  2.679903752296922 4.442800948239688 3.38189667...   \nA4  4.179720750196331 4.178025969588383 2.82590875...   \n\nB                                                  B2  \\\nA                                                       \nA0  3.1664803050145904 3.215713263505831 1.3207405...   \nA1  2.543279237759836 3.2241604919530547 2.1421191...   \nA2  1.4711498652498871 4.14864898174988 3.60304592...   \nA3  9.506096956316204 3.0059394665798393 2.2755538...   \nA4  -1.1006670312897733 2.863275135762401 0.914422...   \n\nB                                                  B3  \\\nA                                                       \nA0  2.1922617555831074 6.64394318891565 5.04185062...   \nA1  1.79340808188274 2.1048355235386578 2.18829618...   \nA2  1.7549956503470243 3.2824890309737653 2.869216...   \nA3  2.5983789857140236 0.15057144125973065 1.17687...   \nA4  2.6527697416084255 2.1271739796223232 2.184085...   \n\nB                                                  B4  \nA                                                      \nA0  2.84571705724833 5.152928954105238 0.581172719...  \nA1  1.5876062505902304 2.2872271684767886 1.777233...  \nA2  2.5782578787815043 2.534207219926411 5.2961491...  \nA3  2.3662721797581545 4.037387297320269 3.4208621...  \nA4  3.1629837978049804 1.6512858862101232 1.995590...  ",
      "text/html": "<div>\n<style scoped>\n    .dataframe tbody tr th:only-of-type {\n        vertical-align: middle;\n    }\n\n    .dataframe tbody tr th {\n        vertical-align: top;\n    }\n\n    .dataframe thead th {\n        text-align: right;\n    }\n</style>\n<table border=\"1\" class=\"dataframe\">\n  <thead>\n    <tr style=\"text-align: right;\">\n      <th>B</th>\n      <th>B0</th>\n      <th>B1</th>\n      <th>B2</th>\n      <th>B3</th>\n      <th>B4</th>\n    </tr>\n    <tr>\n      <th>A</th>\n      <th></th>\n      <th></th>\n      <th></th>\n      <th></th>\n      <th></th>\n    </tr>\n  </thead>\n  <tbody>\n    <tr>\n      <th>A0</th>\n      <td>1.0388293792711492 2.8428084577191624 0.890729...</td>\n      <td>5.492530522149031 3.755297379990835 5.05660558...</td>\n      <td>3.1664803050145904 3.215713263505831 1.3207405...</td>\n      <td>2.1922617555831074 6.64394318891565 5.04185062...</td>\n      <td>2.84571705724833 5.152928954105238 0.581172719...</td>\n    </tr>\n    <tr>\n      <th>A1</th>\n      <td>0.38863690103493737 1.6524412537823012 2.43300...</td>\n      <td>4.063548439198704 2.7601880579798737 4.5113833...</td>\n      <td>2.543279237759836 3.2241604919530547 2.1421191...</td>\n      <td>1.79340808188274 2.1048355235386578 2.18829618...</td>\n      <td>1.5876062505902304 2.2872271684767886 1.777233...</td>\n    </tr>\n    <tr>\n      <th>A2</th>\n      <td>2.674969572173219 8.41334986129022 2.224616130...</td>\n      <td>4.0429182223038636 2.373404245077144 1.9704757...</td>\n      <td>1.4711498652498871 4.14864898174988 3.60304592...</td>\n      <td>1.7549956503470243 3.2824890309737653 2.869216...</td>\n      <td>2.5782578787815043 2.534207219926411 5.2961491...</td>\n    </tr>\n    <tr>\n      <th>A3</th>\n      <td>3.904357174035316 -0.274250003978498 1.3171385...</td>\n      <td>2.679903752296922 4.442800948239688 3.38189667...</td>\n      <td>9.506096956316204 3.0059394665798393 2.2755538...</td>\n      <td>2.5983789857140236 0.15057144125973065 1.17687...</td>\n      <td>2.3662721797581545 4.037387297320269 3.4208621...</td>\n    </tr>\n    <tr>\n      <th>A4</th>\n      <td>-0.3537804762356464 -0.44578194947196786 1.105...</td>\n      <td>4.179720750196331 4.178025969588383 2.82590875...</td>\n      <td>-1.1006670312897733 2.863275135762401 0.914422...</td>\n      <td>2.6527697416084255 2.1271739796223232 2.184085...</td>\n      <td>3.1629837978049804 1.6512858862101232 1.995590...</td>\n    </tr>\n  </tbody>\n</table>\n</div>"
     },
     "execution_count": 1065,
     "metadata": {},
     "output_type": "execute_result"
    }
   ],
   "source": [
    "Table = data.pivot_table(\n",
    "    index=\"A\", \n",
    "    columns=\"B\", \n",
    "    values=\"Effect\", \n",
    "    aggfunc=lambda x: \" \".join(map(str, x))\n",
    ").rename(columns={0.0: 'B0', 1.0: 'B1', 2.0: 'B2', 3.0: 'B3', 4.0: 'B4'}).rename(index={0.0: 'A0', 1.0: 'A1', 2.0: 'A2', 3.0: 'A3', 4.0: 'A4'})\n",
    "Table"
   ],
   "metadata": {
    "collapsed": false,
    "ExecuteTime": {
     "end_time": "2024-04-04T07:40:04.539916Z",
     "start_time": "2024-04-04T07:40:04.524165Z"
    }
   },
   "id": "68f2b5ff350d1de",
   "execution_count": 1065
  },
  {
   "cell_type": "markdown",
   "source": [
    "Перейдём к средним (по выборке в каждой ячейке)"
   ],
   "metadata": {
    "collapsed": false
   },
   "id": "a3840248f4d484a8"
  },
  {
   "cell_type": "code",
   "outputs": [
    {
     "data": {
      "text/plain": "B         B0        B1        B2        B3        B4\nA                                                   \nA0  2.297883  4.618818  2.686027  3.564102  2.732624\nA1  1.743740  3.948304  2.506460  2.565978  2.206595\nA2  2.190384  2.965886  1.697775  1.904213  2.129998\nA3  2.061388  3.855195  3.066496  2.136982  3.085336\nA4  0.920877  2.970678  2.120465  2.446218  2.372401",
      "text/html": "<div>\n<style scoped>\n    .dataframe tbody tr th:only-of-type {\n        vertical-align: middle;\n    }\n\n    .dataframe tbody tr th {\n        vertical-align: top;\n    }\n\n    .dataframe thead th {\n        text-align: right;\n    }\n</style>\n<table border=\"1\" class=\"dataframe\">\n  <thead>\n    <tr style=\"text-align: right;\">\n      <th>B</th>\n      <th>B0</th>\n      <th>B1</th>\n      <th>B2</th>\n      <th>B3</th>\n      <th>B4</th>\n    </tr>\n    <tr>\n      <th>A</th>\n      <th></th>\n      <th></th>\n      <th></th>\n      <th></th>\n      <th></th>\n    </tr>\n  </thead>\n  <tbody>\n    <tr>\n      <th>A0</th>\n      <td>2.297883</td>\n      <td>4.618818</td>\n      <td>2.686027</td>\n      <td>3.564102</td>\n      <td>2.732624</td>\n    </tr>\n    <tr>\n      <th>A1</th>\n      <td>1.743740</td>\n      <td>3.948304</td>\n      <td>2.506460</td>\n      <td>2.565978</td>\n      <td>2.206595</td>\n    </tr>\n    <tr>\n      <th>A2</th>\n      <td>2.190384</td>\n      <td>2.965886</td>\n      <td>1.697775</td>\n      <td>1.904213</td>\n      <td>2.129998</td>\n    </tr>\n    <tr>\n      <th>A3</th>\n      <td>2.061388</td>\n      <td>3.855195</td>\n      <td>3.066496</td>\n      <td>2.136982</td>\n      <td>3.085336</td>\n    </tr>\n    <tr>\n      <th>A4</th>\n      <td>0.920877</td>\n      <td>2.970678</td>\n      <td>2.120465</td>\n      <td>2.446218</td>\n      <td>2.372401</td>\n    </tr>\n  </tbody>\n</table>\n</div>"
     },
     "execution_count": 1066,
     "metadata": {},
     "output_type": "execute_result"
    }
   ],
   "source": [
    "pivot = data.pivot_table(index=\"A\", columns=\"B\", values=\"Effect\", aggfunc=lambda x: x.mean()).rename(columns={0.0: 'B0', 1.0: 'B1', 2.0: 'B2', 3.0: 'B3', 4.0: 'B4'}).rename(index={0.0: 'A0', 1.0: 'A1', 2.0: 'A2', 3.0: 'A3', 4.0: 'A4'})\n",
    "pivot"
   ],
   "metadata": {
    "collapsed": false,
    "ExecuteTime": {
     "end_time": "2024-04-04T07:40:04.558780Z",
     "start_time": "2024-04-04T07:40:04.540923Z"
    }
   },
   "id": "366144d7ce94349b",
   "execution_count": 1066
  },
  {
   "cell_type": "markdown",
   "source": [
    "Критерий Фридмана (мешающий фактор A затираем)"
   ],
   "metadata": {
    "collapsed": false
   },
   "id": "608b8b104b657fba"
  },
  {
   "cell_type": "code",
   "outputs": [
    {
     "data": {
      "text/plain": "FriedmanchisquareResult(statistic=13.280000000000001, pvalue=0.009985688142909994)"
     },
     "execution_count": 1067,
     "metadata": {},
     "output_type": "execute_result"
    }
   ],
   "source": [
    "sps.friedmanchisquare(*np.array(pivot).T)"
   ],
   "metadata": {
    "collapsed": false,
    "ExecuteTime": {
     "end_time": "2024-04-04T07:40:04.565543Z",
     "start_time": "2024-04-04T07:40:04.559785Z"
    }
   },
   "id": "4d9b35ba26612def",
   "execution_count": 1067
  },
  {
   "cell_type": "markdown",
   "source": [
    "Делаем вывод, что есть эффект от уровня фактора B (какого-то)"
   ],
   "metadata": {
    "collapsed": false
   },
   "id": "512d627da68d9e73"
  },
  {
   "cell_type": "code",
   "outputs": [
    {
     "data": {
      "text/plain": "FriedmanchisquareResult(statistic=11.040000000000006, pvalue=0.02611812858242946)"
     },
     "execution_count": 1068,
     "metadata": {},
     "output_type": "execute_result"
    }
   ],
   "source": [
    "sps.friedmanchisquare(*np.array(pivot))"
   ],
   "metadata": {
    "collapsed": false,
    "ExecuteTime": {
     "end_time": "2024-04-04T07:40:04.572815Z",
     "start_time": "2024-04-04T07:40:04.566548Z"
    }
   },
   "id": "a446dec00e484e6c",
   "execution_count": 1068
  },
  {
   "cell_type": "markdown",
   "source": [
    "Проверим однофакторным критерием Краскела-Уоллиса значимость фактора A"
   ],
   "metadata": {
    "collapsed": false
   },
   "id": "59243f20d9ea7cf0"
  },
  {
   "cell_type": "code",
   "outputs": [
    {
     "data": {
      "text/plain": "KruskalResult(statistic=20.170456733067795, pvalue=0.0004621528292803324)"
     },
     "execution_count": 1069,
     "metadata": {},
     "output_type": "execute_result"
    }
   ],
   "source": [
    "sps.kruskal(*[data[data['A'] == x]['Effect'].values for x in pd.unique(data['A'])])"
   ],
   "metadata": {
    "collapsed": false,
    "ExecuteTime": {
     "end_time": "2024-04-04T07:40:04.582524Z",
     "start_time": "2024-04-04T07:40:04.573821Z"
    }
   },
   "id": "41e1561cd17bdd42",
   "execution_count": 1069
  },
  {
   "cell_type": "markdown",
   "source": [
    "Делаем вывод, что эффекта фактора человека нет"
   ],
   "metadata": {
    "collapsed": false
   },
   "id": "1e675ad555ddfac0"
  },
  {
   "cell_type": "markdown",
   "source": [
    "### Перейдём к проверке попарных упорядоченных равенств против альтернатив(>) с помощью критерия LSD Фишера"
   ],
   "metadata": {
    "collapsed": false
   },
   "id": "c21dfad06d9fde85"
  },
  {
   "cell_type": "markdown",
   "source": [
    "Проверим нормальность:"
   ],
   "metadata": {
    "collapsed": false
   },
   "id": "e333333c0717f7e6"
  },
  {
   "cell_type": "code",
   "outputs": [
    {
     "name": "stdout",
     "output_type": "stream",
     "text": [
      "NormaltestResult(statistic=0.6767824490016914, pvalue=0.7129163230002784)\n",
      "NormaltestResult(statistic=2.4162613300654012, pvalue=0.2987552313685375)\n",
      "NormaltestResult(statistic=22.232036411204497, pvalue=1.4872179981183609e-05)\n",
      "NormaltestResult(statistic=26.414483695344508, pvalue=1.8372478354730704e-06)\n",
      "NormaltestResult(statistic=32.92958160946825, pvalue=7.070208280387878e-08)\n"
     ]
    }
   ],
   "source": [
    "for sample in [data[data['A'] == x]['Effect'].values for x in pd.unique(data['A'])]:\n",
    "    print(sps.normaltest(sample))"
   ],
   "metadata": {
    "collapsed": false,
    "ExecuteTime": {
     "end_time": "2024-04-04T07:40:04.598452Z",
     "start_time": "2024-04-04T07:40:04.583530Z"
    }
   },
   "id": "6da4d37b1bd46ac4",
   "execution_count": 1070
  },
  {
   "cell_type": "markdown",
   "source": [
    "Проверим равенство дисперсий"
   ],
   "metadata": {
    "collapsed": false
   },
   "id": "a4193c80cb715839"
  },
  {
   "cell_type": "markdown",
   "source": [
    "Критерий Бартлетта"
   ],
   "metadata": {
    "collapsed": false
   },
   "id": "45742d707679ea55"
  },
  {
   "cell_type": "code",
   "outputs": [
    {
     "data": {
      "text/plain": "BartlettResult(statistic=13.112822049822787, pvalue=0.010737481875934013)"
     },
     "execution_count": 1071,
     "metadata": {},
     "output_type": "execute_result"
    }
   ],
   "source": [
    "sps.bartlett(*[data[data['B'] == x]['Effect'].values for x in pd.unique(data['B'])])"
   ],
   "metadata": {
    "collapsed": false,
    "ExecuteTime": {
     "end_time": "2024-04-04T07:40:04.607209Z",
     "start_time": "2024-04-04T07:40:04.599458Z"
    }
   },
   "id": "9daf282922ba7233",
   "execution_count": 1071
  },
  {
   "cell_type": "markdown",
   "source": [
    "Критерий Левина"
   ],
   "metadata": {
    "collapsed": false
   },
   "id": "42e1ebcb9fcafbec"
  },
  {
   "cell_type": "code",
   "outputs": [
    {
     "data": {
      "text/plain": "LeveneResult(statistic=0.9624821419036461, pvalue=0.42872139898578243)"
     },
     "execution_count": 1072,
     "metadata": {},
     "output_type": "execute_result"
    }
   ],
   "source": [
    "sps.levene(*[data[data['B'] == x]['Effect'].values for x in pd.unique(data['B'])], center='mean')"
   ],
   "metadata": {
    "collapsed": false,
    "ExecuteTime": {
     "end_time": "2024-04-04T07:40:04.615068Z",
     "start_time": "2024-04-04T07:40:04.608214Z"
    }
   },
   "id": "2449bf79abf12193",
   "execution_count": 1072
  },
  {
   "cell_type": "markdown",
   "source": [
    "Критерий Флайнера-Киллиана"
   ],
   "metadata": {
    "collapsed": false
   },
   "id": "1565de5432f0aea1"
  },
  {
   "cell_type": "code",
   "outputs": [
    {
     "data": {
      "text/plain": "FlignerResult(statistic=4.219134420335814, pvalue=0.37716080109111594)"
     },
     "execution_count": 1073,
     "metadata": {},
     "output_type": "execute_result"
    }
   ],
   "source": [
    "sps.fligner(*[data[data['B'] == x]['Effect'].values for x in pd.unique(data['B'])])"
   ],
   "metadata": {
    "collapsed": false,
    "ExecuteTime": {
     "end_time": "2024-04-04T07:40:04.623758Z",
     "start_time": "2024-04-04T07:40:04.616073Z"
    }
   },
   "id": "fad5816e1d64feb8",
   "execution_count": 1073
  },
  {
   "cell_type": "markdown",
   "source": [
    "Каждый из критериев отклонил гипотезу равенства дисперсий"
   ],
   "metadata": {
    "collapsed": false
   },
   "id": "a8c09d8f1a9c027"
  },
  {
   "cell_type": "markdown",
   "source": [
    "Однако, объёмы выборок равны и мы можем не брать в рассмотрение требование равенства дисперсий"
   ],
   "metadata": {
    "collapsed": false
   },
   "id": "439e20fb2ee998e1"
  },
  {
   "cell_type": "code",
   "outputs": [
    {
     "name": "stdout",
     "output_type": "stream",
     "text": [
      "50\n",
      "50\n",
      "50\n",
      "50\n",
      "50\n"
     ]
    }
   ],
   "source": [
    "for dr in [data[data['B'] == x]['Effect'].values for x in pd.unique(data['B'])]:\n",
    "    print(len(dr))"
   ],
   "metadata": {
    "collapsed": false,
    "ExecuteTime": {
     "end_time": "2024-04-04T07:40:04.631956Z",
     "start_time": "2024-04-04T07:40:04.625765Z"
    }
   },
   "id": "dd4199c0d79a00a3",
   "execution_count": 1074
  },
  {
   "cell_type": "markdown",
   "source": [
    "Применить однофакторный критерий Фишера"
   ],
   "metadata": {
    "collapsed": false
   },
   "id": "8c165984c72d2b49"
  },
  {
   "cell_type": "code",
   "outputs": [
    {
     "data": {
      "text/plain": "F_onewayResult(statistic=10.085970992025663, pvalue=1.4227174680949856e-07)"
     },
     "execution_count": 1075,
     "metadata": {},
     "output_type": "execute_result"
    }
   ],
   "source": [
    "sps.f_oneway(*[data[data['B'] == x]['Effect'].values for x in pd.unique(data['B'])])"
   ],
   "metadata": {
    "collapsed": false,
    "ExecuteTime": {
     "end_time": "2024-04-04T07:40:04.639948Z",
     "start_time": "2024-04-04T07:40:04.632963Z"
    }
   },
   "id": "7e01822fc1dc4f5d",
   "execution_count": 1075
  },
  {
   "cell_type": "markdown",
   "source": [
    "Отклоняем гипотезу об отсутствии различий лекарств"
   ],
   "metadata": {
    "collapsed": false
   },
   "id": "9db8a6f06ebcf3d2"
  },
  {
   "cell_type": "markdown",
   "source": [
    "Критерий Краскела-Уоллиса"
   ],
   "metadata": {
    "collapsed": false
   },
   "id": "aa638ce80b1d7045"
  },
  {
   "cell_type": "code",
   "outputs": [
    {
     "data": {
      "text/plain": "KruskalResult(statistic=48.76139856573707, pvalue=6.547875602187325e-10)"
     },
     "execution_count": 1076,
     "metadata": {},
     "output_type": "execute_result"
    }
   ],
   "source": [
    "sps.kruskal(*[data[data['B'] == x]['Effect'].values for x in pd.unique(data['B'])])"
   ],
   "metadata": {
    "collapsed": false,
    "ExecuteTime": {
     "end_time": "2024-04-04T07:40:04.648975Z",
     "start_time": "2024-04-04T07:40:04.640954Z"
    }
   },
   "id": "864e335b9f324f0e",
   "execution_count": 1076
  },
  {
   "cell_type": "markdown",
   "source": [
    "Отклоняем гипотезу об отсутствии сдвига"
   ],
   "metadata": {
    "collapsed": false
   },
   "id": "d40c8a020b050e0a"
  },
  {
   "cell_type": "markdown",
   "source": [
    "#### LSD Фишера"
   ],
   "metadata": {
    "collapsed": false
   },
   "id": "8ffd494c2a620877"
  },
  {
   "cell_type": "code",
   "outputs": [
    {
     "name": "stdout",
     "output_type": "stream",
     "text": [
      "B0 with B2: Diff = 0.5725899997087547, LSD = 0.6830874850225097\n",
      "B2 with B4: Diff = 0.08994653955343024, LSD = 0.613536507530402\n",
      "B4 with B3: Diff = 0.018107652006642105, LSD = 0.48974218576804196\n",
      "B3 with B1: Diff = 1.1482777578222243, LSD = 0.5215502063404852\n"
     ]
    }
   ],
   "source": [
    "dr_names_sorted = data.groupby('B')['Effect'].mean().sort_values().index\n",
    "samples = [data[data['B'] == x]['Effect'].values for x in dr_names_sorted]\n",
    "\n",
    "alpha = 0.05\n",
    "k = 5\n",
    "for j in range(k-1):\n",
    "    nj = len(samples[j])\n",
    "    njj = len(samples[j + 1])\n",
    "    LSD = sps.t.ppf(\n",
    "        1 - alpha * 0.5, \n",
    "        nj + njj - 2\n",
    "    ) * math.sqrt(\n",
    "        (nj + njj) / (nj * njj)\n",
    "    ) * math.sqrt(\n",
    "        (\n",
    "                (nj - 1) * samples[j].var(ddof=False) + (njj - 1) * samples[j + 1].var(ddof=False)\n",
    "        ) / (nj + njj - 2)\n",
    "    )\n",
    "    print(\"{} with {}: Diff = {}, LSD = {}\".format('B' + str(dr_names_sorted[j]), 'B' + str(dr_names_sorted[j + 1]), \n",
    "                                                   abs(samples[j].mean() - samples[j + 1].mean()), LSD))"
   ],
   "metadata": {
    "collapsed": false,
    "ExecuteTime": {
     "end_time": "2024-04-04T07:40:04.660911Z",
     "start_time": "2024-04-04T07:40:04.649981Z"
    }
   },
   "id": "a541801f0659d6bd",
   "execution_count": 1077
  },
  {
   "cell_type": "markdown",
   "source": [
    "Критерий Шеффе для попарных сравнений"
   ],
   "metadata": {
    "collapsed": false
   },
   "id": "eb1d8818badcab69"
  },
  {
   "cell_type": "code",
   "outputs": [
    {
     "name": "stdout",
     "output_type": "stream",
     "text": [
      "Квантиль распределения Фишера: 2.407896185742301\n",
      "\n",
      "sheffe for B0 and B2 is 0.9338539903067837\n",
      "sheffe for B0 and B4 is 1.250291074752093\n",
      "sheffe for B0 and B3 is 1.3195679122130615\n",
      "sheffe for B0 and B1 is 9.527562473348993\n",
      "sheffe for B2 and B4 is 0.02304413340186664\n",
      "sheffe for B2 and B3 is 0.03325635887139093\n",
      "sheffe for B2 and B1 is 4.495730506908095\n",
      "sheffe for B4 and B3 is 0.0009339330414366466\n",
      "sheffe for B4 and B1 is 3.875034899296462\n",
      "sheffe for B3 and B1 is 3.7556521979239808\n"
     ]
    }
   ],
   "source": [
    "def sheffe(c, samples):\n",
    "    ns = np.array([len(x) for x in samples])\n",
    "    k = len(samples)\n",
    "    n = np.array(ns).sum()\n",
    "    sin = 1. / (n - k) * (ns * np.array([x.var() for x in samples])).sum()\n",
    "    S = (c * np.array([x.mean() for x in samples])).sum() ** 2 / ((k - 1) * sin * (c ** 2 / ns).sum())\n",
    "    return S\n",
    "\n",
    "u = sps.f.ppf(1-alpha, len(pd.unique(data['B'])) - 1, len(data['B'].to_list()) - 1)\n",
    "\n",
    "print(\"Квантиль распределения Фишера: {}\\n\".format(u))\n",
    "\n",
    "for i in range(5):\n",
    "    for j in range(i+1, 5):\n",
    "        c = np.zeros(5)\n",
    "        c[i] = 1\n",
    "        c[j] = -1\n",
    "        print(\"sheffe for {} and {} is {}\".format('B' + str(dr_names_sorted[i]), 'B' + str(dr_names_sorted[j]), sheffe(c, samples)))"
   ],
   "metadata": {
    "collapsed": false,
    "ExecuteTime": {
     "end_time": "2024-04-04T07:40:04.672170Z",
     "start_time": "2024-04-04T07:40:04.661918Z"
    }
   },
   "id": "cac0a9155ba9fde1",
   "execution_count": 1078
  }
 ],
 "metadata": {
  "kernelspec": {
   "display_name": "Python 3",
   "language": "python",
   "name": "python3"
  },
  "language_info": {
   "codemirror_mode": {
    "name": "ipython",
    "version": 2
   },
   "file_extension": ".py",
   "mimetype": "text/x-python",
   "name": "python",
   "nbconvert_exporter": "python",
   "pygments_lexer": "ipython2",
   "version": "2.7.6"
  }
 },
 "nbformat": 4,
 "nbformat_minor": 5
}
